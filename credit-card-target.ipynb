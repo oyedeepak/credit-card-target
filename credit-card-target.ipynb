{
 "cells": [
  {
   "cell_type": "code",
   "execution_count": 1,
   "id": "combined-burden",
   "metadata": {
    "_cell_guid": "b1076dfc-b9ad-4769-8c92-a6c4dae69d19",
    "_uuid": "8f2839f25d086af736a60e9eeb907d3b93b6e0e5",
    "execution": {
     "iopub.execute_input": "2021-06-07T12:21:49.753389Z",
     "iopub.status.busy": "2021-06-07T12:21:49.752695Z",
     "iopub.status.idle": "2021-06-07T12:21:49.769397Z",
     "shell.execute_reply": "2021-06-07T12:21:49.769929Z",
     "shell.execute_reply.started": "2021-06-07T12:12:23.963122Z"
    },
    "papermill": {
     "duration": 0.065005,
     "end_time": "2021-06-07T12:21:49.770321",
     "exception": false,
     "start_time": "2021-06-07T12:21:49.705316",
     "status": "completed"
    },
    "tags": []
   },
   "outputs": [
    {
     "name": "stdout",
     "output_type": "stream",
     "text": [
      "/kaggle/input/analytics-vidhya-job-a-thon-may-2021/train_s3TEQDk.csv\n",
      "/kaggle/input/analytics-vidhya-job-a-thon-may-2021/test_mSzZ8RL.csv\n"
     ]
    }
   ],
   "source": [
    "# This Python 3 environment comes with many helpful analytics libraries installed\n",
    "# It is defined by the kaggle/python Docker image: https://github.com/kaggle/docker-python\n",
    "# For example, here's several helpful packages to load\n",
    "\n",
    "import numpy as np # linear algebra\n",
    "import pandas as pd # data processing, CSV file I/O (e.g. pd.read_csv)\n",
    "\n",
    "# Input data files are available in the read-only \"../input/\" directory\n",
    "# For example, running this (by clicking run or pressing Shift+Enter) will list all files under the input directory\n",
    "\n",
    "import os\n",
    "for dirname, _, filenames in os.walk('/kaggle/input'):\n",
    "    for filename in filenames:\n",
    "        print(os.path.join(dirname, filename))\n",
    "\n",
    "# You can write up to 20GB to the current directory (/kaggle/working/) that gets preserved as output when you create a version using \"Save & Run All\" \n",
    "# You can also write temporary files to /kaggle/temp/, but they won't be saved outside of the current session"
   ]
  },
  {
   "cell_type": "code",
   "execution_count": 2,
   "id": "raised-jaguar",
   "metadata": {
    "execution": {
     "iopub.execute_input": "2021-06-07T12:21:49.848027Z",
     "iopub.status.busy": "2021-06-07T12:21:49.847277Z",
     "iopub.status.idle": "2021-06-07T12:21:57.516777Z",
     "shell.execute_reply": "2021-06-07T12:21:57.517356Z",
     "shell.execute_reply.started": "2021-06-07T12:12:23.989604Z"
    },
    "papermill": {
     "duration": 7.71119,
     "end_time": "2021-06-07T12:21:57.517592",
     "exception": false,
     "start_time": "2021-06-07T12:21:49.806402",
     "status": "completed"
    },
    "tags": []
   },
   "outputs": [],
   "source": [
    "# Imported Libraries\n",
    "\n",
    "import numpy as np # linear algebra\n",
    "import pandas as pd # data processing, CSV file I/O (e.g. pd.read_csv)\n",
    "import tensorflow as tf\n",
    "import matplotlib.pyplot as plt\n",
    "import seaborn as sns\n",
    "from sklearn.manifold import TSNE\n",
    "from sklearn.decomposition import PCA, TruncatedSVD\n",
    "import matplotlib.patches as mpatches\n",
    "import time\n",
    "\n",
    "# Classifier Libraries\n",
    "from sklearn.linear_model import LogisticRegression\n",
    "from sklearn.neighbors import KNeighborsClassifier\n",
    "from sklearn.tree import DecisionTreeClassifier\n",
    "from sklearn.ensemble import RandomForestClassifier\n",
    "import collections\n",
    "\n",
    "\n",
    "# Other Libraries\n",
    "from sklearn.model_selection import train_test_split\n",
    "from sklearn.metrics import accuracy_score, confusion_matrix, classification_report,roc_auc_score, roc_curve\n",
    "from collections import Counter\n",
    "from sklearn.model_selection import KFold, StratifiedKFold\n",
    "import warnings\n",
    "warnings.filterwarnings(\"ignore\")"
   ]
  },
  {
   "cell_type": "code",
   "execution_count": 3,
   "id": "devoted-amber",
   "metadata": {
    "execution": {
     "iopub.execute_input": "2021-06-07T12:21:57.593452Z",
     "iopub.status.busy": "2021-06-07T12:21:57.592623Z",
     "iopub.status.idle": "2021-06-07T12:21:58.560098Z",
     "shell.execute_reply": "2021-06-07T12:21:58.558868Z",
     "shell.execute_reply.started": "2021-06-07T12:12:31.718634Z"
    },
    "papermill": {
     "duration": 1.006459,
     "end_time": "2021-06-07T12:21:58.560289",
     "exception": false,
     "start_time": "2021-06-07T12:21:57.553830",
     "status": "completed"
    },
    "tags": []
   },
   "outputs": [],
   "source": [
    "df = pd.read_csv('../input/analytics-vidhya-job-a-thon-may-2021/train_s3TEQDk.csv') # train data\n",
    "ts = pd.read_csv('../input/analytics-vidhya-job-a-thon-may-2021/test_mSzZ8RL.csv') # test data"
   ]
  },
  {
   "cell_type": "code",
   "execution_count": 4,
   "id": "informative-dynamics",
   "metadata": {
    "execution": {
     "iopub.execute_input": "2021-06-07T12:21:58.639242Z",
     "iopub.status.busy": "2021-06-07T12:21:58.638444Z",
     "iopub.status.idle": "2021-06-07T12:21:58.650049Z",
     "shell.execute_reply": "2021-06-07T12:21:58.650513Z",
     "shell.execute_reply.started": "2021-06-07T12:12:32.629344Z"
    },
    "papermill": {
     "duration": 0.056287,
     "end_time": "2021-06-07T12:21:58.650731",
     "exception": false,
     "start_time": "2021-06-07T12:21:58.594444",
     "status": "completed"
    },
    "tags": []
   },
   "outputs": [
    {
     "data": {
      "text/plain": [
       "0         VBENBARO\n",
       "1         CCMEWNKY\n",
       "2         VK3KGA9M\n",
       "3         TT8RPZVC\n",
       "4         SHQZEYTZ\n",
       "            ...   \n",
       "105307    DBENJOYI\n",
       "105308    CWQ72DWS\n",
       "105309    HDESC8GU\n",
       "105310    2PW4SFCA\n",
       "105311    F2NOYPPZ\n",
       "Name: ID, Length: 105312, dtype: object"
      ]
     },
     "execution_count": 4,
     "metadata": {},
     "output_type": "execute_result"
    }
   ],
   "source": [
    "ts_id = ts['ID']\n",
    "ts_id"
   ]
  },
  {
   "cell_type": "code",
   "execution_count": 5,
   "id": "generic-cardiff",
   "metadata": {
    "execution": {
     "iopub.execute_input": "2021-06-07T12:21:58.723382Z",
     "iopub.status.busy": "2021-06-07T12:21:58.722637Z",
     "iopub.status.idle": "2021-06-07T12:21:58.746502Z",
     "shell.execute_reply": "2021-06-07T12:21:58.747069Z",
     "shell.execute_reply.started": "2021-06-07T12:12:32.652361Z"
    },
    "papermill": {
     "duration": 0.062732,
     "end_time": "2021-06-07T12:21:58.747273",
     "exception": false,
     "start_time": "2021-06-07T12:21:58.684541",
     "status": "completed"
    },
    "tags": []
   },
   "outputs": [
    {
     "data": {
      "text/html": [
       "<div>\n",
       "<style scoped>\n",
       "    .dataframe tbody tr th:only-of-type {\n",
       "        vertical-align: middle;\n",
       "    }\n",
       "\n",
       "    .dataframe tbody tr th {\n",
       "        vertical-align: top;\n",
       "    }\n",
       "\n",
       "    .dataframe thead th {\n",
       "        text-align: right;\n",
       "    }\n",
       "</style>\n",
       "<table border=\"1\" class=\"dataframe\">\n",
       "  <thead>\n",
       "    <tr style=\"text-align: right;\">\n",
       "      <th></th>\n",
       "      <th>ID</th>\n",
       "      <th>Gender</th>\n",
       "      <th>Age</th>\n",
       "      <th>Region_Code</th>\n",
       "      <th>Occupation</th>\n",
       "      <th>Channel_Code</th>\n",
       "      <th>Vintage</th>\n",
       "      <th>Credit_Product</th>\n",
       "      <th>Avg_Account_Balance</th>\n",
       "      <th>Is_Active</th>\n",
       "      <th>Is_Lead</th>\n",
       "    </tr>\n",
       "  </thead>\n",
       "  <tbody>\n",
       "    <tr>\n",
       "      <th>0</th>\n",
       "      <td>NNVBBKZB</td>\n",
       "      <td>Female</td>\n",
       "      <td>73</td>\n",
       "      <td>RG268</td>\n",
       "      <td>Other</td>\n",
       "      <td>X3</td>\n",
       "      <td>43</td>\n",
       "      <td>No</td>\n",
       "      <td>1045696</td>\n",
       "      <td>No</td>\n",
       "      <td>0</td>\n",
       "    </tr>\n",
       "    <tr>\n",
       "      <th>1</th>\n",
       "      <td>IDD62UNG</td>\n",
       "      <td>Female</td>\n",
       "      <td>30</td>\n",
       "      <td>RG277</td>\n",
       "      <td>Salaried</td>\n",
       "      <td>X1</td>\n",
       "      <td>32</td>\n",
       "      <td>No</td>\n",
       "      <td>581988</td>\n",
       "      <td>No</td>\n",
       "      <td>0</td>\n",
       "    </tr>\n",
       "    <tr>\n",
       "      <th>2</th>\n",
       "      <td>HD3DSEMC</td>\n",
       "      <td>Female</td>\n",
       "      <td>56</td>\n",
       "      <td>RG268</td>\n",
       "      <td>Self_Employed</td>\n",
       "      <td>X3</td>\n",
       "      <td>26</td>\n",
       "      <td>No</td>\n",
       "      <td>1484315</td>\n",
       "      <td>Yes</td>\n",
       "      <td>0</td>\n",
       "    </tr>\n",
       "    <tr>\n",
       "      <th>3</th>\n",
       "      <td>BF3NC7KV</td>\n",
       "      <td>Male</td>\n",
       "      <td>34</td>\n",
       "      <td>RG270</td>\n",
       "      <td>Salaried</td>\n",
       "      <td>X1</td>\n",
       "      <td>19</td>\n",
       "      <td>No</td>\n",
       "      <td>470454</td>\n",
       "      <td>No</td>\n",
       "      <td>0</td>\n",
       "    </tr>\n",
       "    <tr>\n",
       "      <th>4</th>\n",
       "      <td>TEASRWXV</td>\n",
       "      <td>Female</td>\n",
       "      <td>30</td>\n",
       "      <td>RG282</td>\n",
       "      <td>Salaried</td>\n",
       "      <td>X1</td>\n",
       "      <td>33</td>\n",
       "      <td>No</td>\n",
       "      <td>886787</td>\n",
       "      <td>No</td>\n",
       "      <td>0</td>\n",
       "    </tr>\n",
       "  </tbody>\n",
       "</table>\n",
       "</div>"
      ],
      "text/plain": [
       "         ID  Gender  Age Region_Code     Occupation Channel_Code  Vintage  \\\n",
       "0  NNVBBKZB  Female   73       RG268          Other           X3       43   \n",
       "1  IDD62UNG  Female   30       RG277       Salaried           X1       32   \n",
       "2  HD3DSEMC  Female   56       RG268  Self_Employed           X3       26   \n",
       "3  BF3NC7KV    Male   34       RG270       Salaried           X1       19   \n",
       "4  TEASRWXV  Female   30       RG282       Salaried           X1       33   \n",
       "\n",
       "  Credit_Product  Avg_Account_Balance Is_Active  Is_Lead  \n",
       "0             No              1045696        No        0  \n",
       "1             No               581988        No        0  \n",
       "2             No              1484315       Yes        0  \n",
       "3             No               470454        No        0  \n",
       "4             No               886787        No        0  "
      ]
     },
     "execution_count": 5,
     "metadata": {},
     "output_type": "execute_result"
    }
   ],
   "source": [
    "df.head()"
   ]
  },
  {
   "cell_type": "code",
   "execution_count": 6,
   "id": "subsequent-victoria",
   "metadata": {
    "execution": {
     "iopub.execute_input": "2021-06-07T12:21:58.821578Z",
     "iopub.status.busy": "2021-06-07T12:21:58.820942Z",
     "iopub.status.idle": "2021-06-07T12:21:58.887864Z",
     "shell.execute_reply": "2021-06-07T12:21:58.887197Z",
     "shell.execute_reply.started": "2021-06-07T12:12:32.681399Z"
    },
    "papermill": {
     "duration": 0.105245,
     "end_time": "2021-06-07T12:21:58.888023",
     "exception": false,
     "start_time": "2021-06-07T12:21:58.782778",
     "status": "completed"
    },
    "tags": []
   },
   "outputs": [
    {
     "data": {
      "text/html": [
       "<div>\n",
       "<style scoped>\n",
       "    .dataframe tbody tr th:only-of-type {\n",
       "        vertical-align: middle;\n",
       "    }\n",
       "\n",
       "    .dataframe tbody tr th {\n",
       "        vertical-align: top;\n",
       "    }\n",
       "\n",
       "    .dataframe thead th {\n",
       "        text-align: right;\n",
       "    }\n",
       "</style>\n",
       "<table border=\"1\" class=\"dataframe\">\n",
       "  <thead>\n",
       "    <tr style=\"text-align: right;\">\n",
       "      <th></th>\n",
       "      <th>Age</th>\n",
       "      <th>Vintage</th>\n",
       "      <th>Avg_Account_Balance</th>\n",
       "      <th>Is_Lead</th>\n",
       "    </tr>\n",
       "  </thead>\n",
       "  <tbody>\n",
       "    <tr>\n",
       "      <th>count</th>\n",
       "      <td>245725.000000</td>\n",
       "      <td>245725.000000</td>\n",
       "      <td>2.457250e+05</td>\n",
       "      <td>245725.000000</td>\n",
       "    </tr>\n",
       "    <tr>\n",
       "      <th>mean</th>\n",
       "      <td>43.856307</td>\n",
       "      <td>46.959141</td>\n",
       "      <td>1.128403e+06</td>\n",
       "      <td>0.237208</td>\n",
       "    </tr>\n",
       "    <tr>\n",
       "      <th>std</th>\n",
       "      <td>14.828672</td>\n",
       "      <td>32.353136</td>\n",
       "      <td>8.529364e+05</td>\n",
       "      <td>0.425372</td>\n",
       "    </tr>\n",
       "    <tr>\n",
       "      <th>min</th>\n",
       "      <td>23.000000</td>\n",
       "      <td>7.000000</td>\n",
       "      <td>2.079000e+04</td>\n",
       "      <td>0.000000</td>\n",
       "    </tr>\n",
       "    <tr>\n",
       "      <th>25%</th>\n",
       "      <td>30.000000</td>\n",
       "      <td>20.000000</td>\n",
       "      <td>6.043100e+05</td>\n",
       "      <td>0.000000</td>\n",
       "    </tr>\n",
       "    <tr>\n",
       "      <th>50%</th>\n",
       "      <td>43.000000</td>\n",
       "      <td>32.000000</td>\n",
       "      <td>8.946010e+05</td>\n",
       "      <td>0.000000</td>\n",
       "    </tr>\n",
       "    <tr>\n",
       "      <th>75%</th>\n",
       "      <td>54.000000</td>\n",
       "      <td>73.000000</td>\n",
       "      <td>1.366666e+06</td>\n",
       "      <td>0.000000</td>\n",
       "    </tr>\n",
       "    <tr>\n",
       "      <th>max</th>\n",
       "      <td>85.000000</td>\n",
       "      <td>135.000000</td>\n",
       "      <td>1.035201e+07</td>\n",
       "      <td>1.000000</td>\n",
       "    </tr>\n",
       "  </tbody>\n",
       "</table>\n",
       "</div>"
      ],
      "text/plain": [
       "                 Age        Vintage  Avg_Account_Balance        Is_Lead\n",
       "count  245725.000000  245725.000000         2.457250e+05  245725.000000\n",
       "mean       43.856307      46.959141         1.128403e+06       0.237208\n",
       "std        14.828672      32.353136         8.529364e+05       0.425372\n",
       "min        23.000000       7.000000         2.079000e+04       0.000000\n",
       "25%        30.000000      20.000000         6.043100e+05       0.000000\n",
       "50%        43.000000      32.000000         8.946010e+05       0.000000\n",
       "75%        54.000000      73.000000         1.366666e+06       0.000000\n",
       "max        85.000000     135.000000         1.035201e+07       1.000000"
      ]
     },
     "execution_count": 6,
     "metadata": {},
     "output_type": "execute_result"
    }
   ],
   "source": [
    "df.describe()"
   ]
  },
  {
   "cell_type": "code",
   "execution_count": 7,
   "id": "rubber-greece",
   "metadata": {
    "execution": {
     "iopub.execute_input": "2021-06-07T12:21:58.965008Z",
     "iopub.status.busy": "2021-06-07T12:21:58.964327Z",
     "iopub.status.idle": "2021-06-07T12:21:59.195598Z",
     "shell.execute_reply": "2021-06-07T12:21:59.196559Z",
     "shell.execute_reply.started": "2021-06-07T12:12:32.754505Z"
    },
    "papermill": {
     "duration": 0.273007,
     "end_time": "2021-06-07T12:21:59.196808",
     "exception": false,
     "start_time": "2021-06-07T12:21:58.923801",
     "status": "completed"
    },
    "tags": []
   },
   "outputs": [
    {
     "name": "stdout",
     "output_type": "stream",
     "text": [
      "ID                         0\n",
      "Gender                     0\n",
      "Age                        0\n",
      "Region_Code                0\n",
      "Occupation                 0\n",
      "Channel_Code               0\n",
      "Vintage                    0\n",
      "Credit_Product         29325\n",
      "Avg_Account_Balance        0\n",
      "Is_Active                  0\n",
      "Is_Lead                    0\n",
      "dtype: int64\n",
      "#############################\n",
      "ID                         0\n",
      "Gender                     0\n",
      "Age                        0\n",
      "Region_Code                0\n",
      "Occupation                 0\n",
      "Channel_Code               0\n",
      "Vintage                    0\n",
      "Credit_Product         12522\n",
      "Avg_Account_Balance        0\n",
      "Is_Active                  0\n",
      "dtype: int64\n"
     ]
    }
   ],
   "source": [
    "print(df.isnull().sum())\n",
    "print('#############################')\n",
    "print(ts.isnull().sum())"
   ]
  },
  {
   "cell_type": "code",
   "execution_count": 8,
   "id": "informal-cancellation",
   "metadata": {
    "execution": {
     "iopub.execute_input": "2021-06-07T12:21:59.297488Z",
     "iopub.status.busy": "2021-06-07T12:21:59.296457Z",
     "iopub.status.idle": "2021-06-07T12:21:59.317132Z",
     "shell.execute_reply": "2021-06-07T12:21:59.316569Z",
     "shell.execute_reply.started": "2021-06-07T12:12:32.987483Z"
    },
    "papermill": {
     "duration": 0.084174,
     "end_time": "2021-06-07T12:21:59.317292",
     "exception": false,
     "start_time": "2021-06-07T12:21:59.233118",
     "status": "completed"
    },
    "tags": []
   },
   "outputs": [],
   "source": [
    "# Credit_Product: If the Customer has any active credit product (Home loan, Personal loan, Credit Card etc.)\n",
    "# Thus, We will replace null values with 'No' because if the customer has active credit product, data would have been fed.\n",
    "\n",
    "df['Credit_Product'] = df['Credit_Product'].replace(np.nan, 'No')\n",
    "ts['Credit_Product'] = ts['Credit_Product'].replace(np.nan, 'No')"
   ]
  },
  {
   "cell_type": "code",
   "execution_count": 9,
   "id": "rough-binary",
   "metadata": {
    "execution": {
     "iopub.execute_input": "2021-06-07T12:21:59.396339Z",
     "iopub.status.busy": "2021-06-07T12:21:59.395558Z",
     "iopub.status.idle": "2021-06-07T12:21:59.409627Z",
     "shell.execute_reply": "2021-06-07T12:21:59.408809Z",
     "shell.execute_reply.started": "2021-06-07T12:12:33.036024Z"
    },
    "papermill": {
     "duration": 0.05694,
     "end_time": "2021-06-07T12:21:59.409848",
     "exception": false,
     "start_time": "2021-06-07T12:21:59.352908",
     "status": "completed"
    },
    "tags": []
   },
   "outputs": [
    {
     "name": "stdout",
     "output_type": "stream",
     "text": [
      "Customer is not interested: 76.28 % of the dataset\n",
      "Customer is interested: 23.72 % of the dataset\n"
     ]
    }
   ],
   "source": [
    "# The classes are heavily skewed we need to solve this issue later.\n",
    "print('Customer is not interested:', round(df['Is_Lead'].value_counts()[0]/len(df) * 100,2), '% of the dataset')\n",
    "print('Customer is interested:', round(df['Is_Lead'].value_counts()[1]/len(df) * 100,2), '% of the dataset')"
   ]
  },
  {
   "cell_type": "code",
   "execution_count": 10,
   "id": "delayed-shirt",
   "metadata": {
    "execution": {
     "iopub.execute_input": "2021-06-07T12:21:59.488423Z",
     "iopub.status.busy": "2021-06-07T12:21:59.487759Z",
     "iopub.status.idle": "2021-06-07T12:21:59.935542Z",
     "shell.execute_reply": "2021-06-07T12:21:59.934850Z",
     "shell.execute_reply.started": "2021-06-07T12:12:33.058568Z"
    },
    "papermill": {
     "duration": 0.489763,
     "end_time": "2021-06-07T12:21:59.935699",
     "exception": false,
     "start_time": "2021-06-07T12:21:59.445936",
     "status": "completed"
    },
    "tags": []
   },
   "outputs": [
    {
     "data": {
      "text/plain": [
       "Text(0.5, 1.0, 'Class Distributions \\n (0: Customer is not interested || 1: Customer is interested)')"
      ]
     },
     "execution_count": 10,
     "metadata": {},
     "output_type": "execute_result"
    },
    {
     "data": {
      "image/png": "[encoded data removed]",
      "text/plain": [
       "<Figure size 432x288 with 1 Axes>"
      ]
     },
     "metadata": {
      "needs_background": "light"
     },
     "output_type": "display_data"
    }
   ],
   "source": [
    "colors = [\"#0101DF\", \"#DF0101\"]\n",
    "\n",
    "sns.countplot('Is_Lead', data=df, palette=colors)\n",
    "plt.title('Class Distributions \\n (0: Customer is not interested || 1: Customer is interested)', fontsize=10)"
   ]
  },
  {
   "cell_type": "code",
   "execution_count": 11,
   "id": "sunrise-hundred",
   "metadata": {
    "execution": {
     "iopub.execute_input": "2021-06-07T12:22:00.016076Z",
     "iopub.status.busy": "2021-06-07T12:22:00.015316Z",
     "iopub.status.idle": "2021-06-07T12:22:00.019039Z",
     "shell.execute_reply": "2021-06-07T12:22:00.018478Z",
     "shell.execute_reply.started": "2021-06-07T12:12:33.510015Z"
    },
    "papermill": {
     "duration": 0.046607,
     "end_time": "2021-06-07T12:22:00.019195",
     "exception": false,
     "start_time": "2021-06-07T12:21:59.972588",
     "status": "completed"
    },
    "tags": []
   },
   "outputs": [
    {
     "data": {
      "text/plain": [
       "Index(['ID', 'Gender', 'Age', 'Region_Code', 'Occupation', 'Channel_Code',\n",
       "       'Vintage', 'Credit_Product', 'Avg_Account_Balance', 'Is_Active',\n",
       "       'Is_Lead'],\n",
       "      dtype='object')"
      ]
     },
     "execution_count": 11,
     "metadata": {},
     "output_type": "execute_result"
    }
   ],
   "source": [
    "df.columns"
   ]
  },
  {
   "cell_type": "code",
   "execution_count": 12,
   "id": "tamil-natural",
   "metadata": {
    "execution": {
     "iopub.execute_input": "2021-06-07T12:22:00.127695Z",
     "iopub.status.busy": "2021-06-07T12:22:00.127008Z",
     "iopub.status.idle": "2021-06-07T12:22:02.218928Z",
     "shell.execute_reply": "2021-06-07T12:22:02.218230Z",
     "shell.execute_reply.started": "2021-06-07T12:12:33.519552Z"
    },
    "papermill": {
     "duration": 2.147778,
     "end_time": "2021-06-07T12:22:02.219093",
     "exception": false,
     "start_time": "2021-06-07T12:22:00.071315",
     "status": "completed"
    },
    "tags": []
   },
   "outputs": [
    {
     "data": {
      "text/plain": [
       "<AxesSubplot:xlabel='Age', ylabel='Density'>"
      ]
     },
     "execution_count": 12,
     "metadata": {},
     "output_type": "execute_result"
    },
    {
     "data": {
      "image/png": "[encoded data removed]",
      "text/plain": [
       "<Figure size 432x288 with 1 Axes>"
      ]
     },
     "metadata": {
      "needs_background": "light"
     },
     "output_type": "display_data"
    }
   ],
   "source": [
    "sns.kdeplot(data=df, x=\"Age\", hue='Occupation')"
   ]
  },
  {
   "cell_type": "code",
   "execution_count": 13,
   "id": "multiple-garage",
   "metadata": {
    "execution": {
     "iopub.execute_input": "2021-06-07T12:22:02.343101Z",
     "iopub.status.busy": "2021-06-07T12:22:02.329918Z",
     "iopub.status.idle": "2021-06-07T12:22:02.803233Z",
     "shell.execute_reply": "2021-06-07T12:22:02.802535Z",
     "shell.execute_reply.started": "2021-06-07T12:12:35.572915Z"
    },
    "papermill": {
     "duration": 0.542975,
     "end_time": "2021-06-07T12:22:02.803401",
     "exception": false,
     "start_time": "2021-06-07T12:22:02.260426",
     "status": "completed"
    },
    "tags": []
   },
   "outputs": [
    {
     "data": {
      "image/png": "[encoded data removed]",
      "text/plain": [
       "<Figure size 864x360 with 1 Axes>"
      ]
     },
     "metadata": {
      "needs_background": "light"
     },
     "output_type": "display_data"
    }
   ],
   "source": [
    "plt.figure(figsize=(12,5))\n",
    "sns.countplot(data=df, x= 'Occupation', hue= 'Is_Lead')\n",
    "plt.show()"
   ]
  },
  {
   "cell_type": "code",
   "execution_count": 14,
   "id": "scientific-factor",
   "metadata": {
    "execution": {
     "iopub.execute_input": "2021-06-07T12:22:02.919244Z",
     "iopub.status.busy": "2021-06-07T12:22:02.902217Z",
     "iopub.status.idle": "2021-06-07T12:22:03.105766Z",
     "shell.execute_reply": "2021-06-07T12:22:03.106372Z",
     "shell.execute_reply.started": "2021-06-07T12:12:36.058134Z"
    },
    "papermill": {
     "duration": 0.261109,
     "end_time": "2021-06-07T12:22:03.106609",
     "exception": false,
     "start_time": "2021-06-07T12:22:02.845500",
     "status": "completed"
    },
    "tags": []
   },
   "outputs": [
    {
     "data": {
      "text/plain": [
       "Text(0.5, 0, 'Age')"
      ]
     },
     "execution_count": 14,
     "metadata": {},
     "output_type": "execute_result"
    },
    {
     "data": {
      "image/png": "[encoded data removed]",
      "text/plain": [
       "<Figure size 432x288 with 1 Axes>"
      ]
     },
     "metadata": {
      "needs_background": "light"
     },
     "output_type": "display_data"
    }
   ],
   "source": [
    "plt.hist(df.Age, density=True, bins=30)  # density=False would make counts\n",
    "plt.ylabel('Count')\n",
    "plt.xlabel('Age')"
   ]
  },
  {
   "cell_type": "code",
   "execution_count": 15,
   "id": "developed-bibliography",
   "metadata": {
    "execution": {
     "iopub.execute_input": "2021-06-07T12:22:03.232141Z",
     "iopub.status.busy": "2021-06-07T12:22:03.199448Z",
     "iopub.status.idle": "2021-06-07T12:22:03.235223Z",
     "shell.execute_reply": "2021-06-07T12:22:03.235743Z",
     "shell.execute_reply.started": "2021-06-07T12:12:36.272273Z"
    },
    "papermill": {
     "duration": 0.086129,
     "end_time": "2021-06-07T12:22:03.235954",
     "exception": false,
     "start_time": "2021-06-07T12:22:03.149825",
     "status": "completed"
    },
    "tags": []
   },
   "outputs": [
    {
     "data": {
      "text/html": [
       "<div>\n",
       "<style scoped>\n",
       "    .dataframe tbody tr th:only-of-type {\n",
       "        vertical-align: middle;\n",
       "    }\n",
       "\n",
       "    .dataframe tbody tr th {\n",
       "        vertical-align: top;\n",
       "    }\n",
       "\n",
       "    .dataframe thead th {\n",
       "        text-align: right;\n",
       "    }\n",
       "</style>\n",
       "<table border=\"1\" class=\"dataframe\">\n",
       "  <thead>\n",
       "    <tr style=\"text-align: right;\">\n",
       "      <th></th>\n",
       "      <th>Gender</th>\n",
       "      <th>Age</th>\n",
       "      <th>Occupation</th>\n",
       "      <th>Channel_Code</th>\n",
       "      <th>Vintage</th>\n",
       "      <th>Credit_Product</th>\n",
       "      <th>Avg_Account_Balance</th>\n",
       "      <th>Is_Active</th>\n",
       "      <th>Is_Lead</th>\n",
       "    </tr>\n",
       "  </thead>\n",
       "  <tbody>\n",
       "    <tr>\n",
       "      <th>0</th>\n",
       "      <td>Female</td>\n",
       "      <td>73</td>\n",
       "      <td>Other</td>\n",
       "      <td>X3</td>\n",
       "      <td>43</td>\n",
       "      <td>No</td>\n",
       "      <td>1045696</td>\n",
       "      <td>No</td>\n",
       "      <td>0</td>\n",
       "    </tr>\n",
       "    <tr>\n",
       "      <th>1</th>\n",
       "      <td>Female</td>\n",
       "      <td>30</td>\n",
       "      <td>Salaried</td>\n",
       "      <td>X1</td>\n",
       "      <td>32</td>\n",
       "      <td>No</td>\n",
       "      <td>581988</td>\n",
       "      <td>No</td>\n",
       "      <td>0</td>\n",
       "    </tr>\n",
       "    <tr>\n",
       "      <th>2</th>\n",
       "      <td>Female</td>\n",
       "      <td>56</td>\n",
       "      <td>Self_Employed</td>\n",
       "      <td>X3</td>\n",
       "      <td>26</td>\n",
       "      <td>No</td>\n",
       "      <td>1484315</td>\n",
       "      <td>Yes</td>\n",
       "      <td>0</td>\n",
       "    </tr>\n",
       "    <tr>\n",
       "      <th>3</th>\n",
       "      <td>Male</td>\n",
       "      <td>34</td>\n",
       "      <td>Salaried</td>\n",
       "      <td>X1</td>\n",
       "      <td>19</td>\n",
       "      <td>No</td>\n",
       "      <td>470454</td>\n",
       "      <td>No</td>\n",
       "      <td>0</td>\n",
       "    </tr>\n",
       "    <tr>\n",
       "      <th>4</th>\n",
       "      <td>Female</td>\n",
       "      <td>30</td>\n",
       "      <td>Salaried</td>\n",
       "      <td>X1</td>\n",
       "      <td>33</td>\n",
       "      <td>No</td>\n",
       "      <td>886787</td>\n",
       "      <td>No</td>\n",
       "      <td>0</td>\n",
       "    </tr>\n",
       "  </tbody>\n",
       "</table>\n",
       "</div>"
      ],
      "text/plain": [
       "   Gender  Age     Occupation Channel_Code  Vintage Credit_Product  \\\n",
       "0  Female   73          Other           X3       43             No   \n",
       "1  Female   30       Salaried           X1       32             No   \n",
       "2  Female   56  Self_Employed           X3       26             No   \n",
       "3    Male   34       Salaried           X1       19             No   \n",
       "4  Female   30       Salaried           X1       33             No   \n",
       "\n",
       "   Avg_Account_Balance Is_Active  Is_Lead  \n",
       "0              1045696        No        0  \n",
       "1               581988        No        0  \n",
       "2              1484315       Yes        0  \n",
       "3               470454        No        0  \n",
       "4               886787        No        0  "
      ]
     },
     "execution_count": 15,
     "metadata": {},
     "output_type": "execute_result"
    }
   ],
   "source": [
    "df = df.drop(['ID', 'Region_Code'], axis = 1)\n",
    "\n",
    "df.head()"
   ]
  },
  {
   "cell_type": "code",
   "execution_count": 16,
   "id": "european-alexandria",
   "metadata": {
    "execution": {
     "iopub.execute_input": "2021-06-07T12:22:03.327398Z",
     "iopub.status.busy": "2021-06-07T12:22:03.326654Z",
     "iopub.status.idle": "2021-06-07T12:22:03.349366Z",
     "shell.execute_reply": "2021-06-07T12:22:03.348627Z",
     "shell.execute_reply.started": "2021-06-07T12:12:36.311815Z"
    },
    "papermill": {
     "duration": 0.066986,
     "end_time": "2021-06-07T12:22:03.349532",
     "exception": false,
     "start_time": "2021-06-07T12:22:03.282546",
     "status": "completed"
    },
    "tags": []
   },
   "outputs": [
    {
     "data": {
      "text/html": [
       "<div>\n",
       "<style scoped>\n",
       "    .dataframe tbody tr th:only-of-type {\n",
       "        vertical-align: middle;\n",
       "    }\n",
       "\n",
       "    .dataframe tbody tr th {\n",
       "        vertical-align: top;\n",
       "    }\n",
       "\n",
       "    .dataframe thead th {\n",
       "        text-align: right;\n",
       "    }\n",
       "</style>\n",
       "<table border=\"1\" class=\"dataframe\">\n",
       "  <thead>\n",
       "    <tr style=\"text-align: right;\">\n",
       "      <th></th>\n",
       "      <th>Gender</th>\n",
       "      <th>Age</th>\n",
       "      <th>Occupation</th>\n",
       "      <th>Channel_Code</th>\n",
       "      <th>Vintage</th>\n",
       "      <th>Credit_Product</th>\n",
       "      <th>Avg_Account_Balance</th>\n",
       "      <th>Is_Active</th>\n",
       "    </tr>\n",
       "  </thead>\n",
       "  <tbody>\n",
       "    <tr>\n",
       "      <th>0</th>\n",
       "      <td>Male</td>\n",
       "      <td>29</td>\n",
       "      <td>Other</td>\n",
       "      <td>X1</td>\n",
       "      <td>25</td>\n",
       "      <td>Yes</td>\n",
       "      <td>742366</td>\n",
       "      <td>No</td>\n",
       "    </tr>\n",
       "    <tr>\n",
       "      <th>1</th>\n",
       "      <td>Male</td>\n",
       "      <td>43</td>\n",
       "      <td>Other</td>\n",
       "      <td>X2</td>\n",
       "      <td>49</td>\n",
       "      <td>No</td>\n",
       "      <td>925537</td>\n",
       "      <td>No</td>\n",
       "    </tr>\n",
       "    <tr>\n",
       "      <th>2</th>\n",
       "      <td>Male</td>\n",
       "      <td>31</td>\n",
       "      <td>Salaried</td>\n",
       "      <td>X1</td>\n",
       "      <td>14</td>\n",
       "      <td>No</td>\n",
       "      <td>215949</td>\n",
       "      <td>No</td>\n",
       "    </tr>\n",
       "    <tr>\n",
       "      <th>3</th>\n",
       "      <td>Male</td>\n",
       "      <td>29</td>\n",
       "      <td>Other</td>\n",
       "      <td>X1</td>\n",
       "      <td>33</td>\n",
       "      <td>No</td>\n",
       "      <td>868070</td>\n",
       "      <td>No</td>\n",
       "    </tr>\n",
       "    <tr>\n",
       "      <th>4</th>\n",
       "      <td>Female</td>\n",
       "      <td>29</td>\n",
       "      <td>Other</td>\n",
       "      <td>X1</td>\n",
       "      <td>19</td>\n",
       "      <td>No</td>\n",
       "      <td>657087</td>\n",
       "      <td>No</td>\n",
       "    </tr>\n",
       "  </tbody>\n",
       "</table>\n",
       "</div>"
      ],
      "text/plain": [
       "   Gender  Age Occupation Channel_Code  Vintage Credit_Product  \\\n",
       "0    Male   29      Other           X1       25            Yes   \n",
       "1    Male   43      Other           X2       49             No   \n",
       "2    Male   31   Salaried           X1       14             No   \n",
       "3    Male   29      Other           X1       33             No   \n",
       "4  Female   29      Other           X1       19             No   \n",
       "\n",
       "   Avg_Account_Balance Is_Active  \n",
       "0               742366        No  \n",
       "1               925537        No  \n",
       "2               215949        No  \n",
       "3               868070        No  \n",
       "4               657087        No  "
      ]
     },
     "execution_count": 16,
     "metadata": {},
     "output_type": "execute_result"
    }
   ],
   "source": [
    "ts = ts.drop(['ID', 'Region_Code'], axis = 1)\n",
    "\n",
    "ts.head()"
   ]
  },
  {
   "cell_type": "code",
   "execution_count": 17,
   "id": "elementary-argentina",
   "metadata": {
    "execution": {
     "iopub.execute_input": "2021-06-07T12:22:03.435938Z",
     "iopub.status.busy": "2021-06-07T12:22:03.435275Z",
     "iopub.status.idle": "2021-06-07T12:22:03.597086Z",
     "shell.execute_reply": "2021-06-07T12:22:03.595500Z",
     "shell.execute_reply.started": "2021-06-07T12:12:36.340634Z"
    },
    "papermill": {
     "duration": 0.206248,
     "end_time": "2021-06-07T12:22:03.597277",
     "exception": false,
     "start_time": "2021-06-07T12:22:03.391029",
     "status": "completed"
    },
    "tags": []
   },
   "outputs": [],
   "source": [
    "df = pd.get_dummies(df, columns = ['Gender', 'Occupation', 'Credit_Product', 'Channel_Code', 'Is_Active'], drop_first = True)"
   ]
  },
  {
   "cell_type": "code",
   "execution_count": 18,
   "id": "innovative-grammar",
   "metadata": {
    "execution": {
     "iopub.execute_input": "2021-06-07T12:22:03.687136Z",
     "iopub.status.busy": "2021-06-07T12:22:03.686403Z",
     "iopub.status.idle": "2021-06-07T12:22:03.752758Z",
     "shell.execute_reply": "2021-06-07T12:22:03.753253Z",
     "shell.execute_reply.started": "2021-06-07T12:12:36.509746Z"
    },
    "papermill": {
     "duration": 0.114431,
     "end_time": "2021-06-07T12:22:03.753469",
     "exception": false,
     "start_time": "2021-06-07T12:22:03.639038",
     "status": "completed"
    },
    "tags": []
   },
   "outputs": [],
   "source": [
    "ts = pd.get_dummies(ts, columns = ['Gender', 'Occupation', 'Credit_Product', 'Channel_Code', 'Is_Active'], drop_first = True)"
   ]
  },
  {
   "cell_type": "code",
   "execution_count": 19,
   "id": "moral-cleaning",
   "metadata": {
    "execution": {
     "iopub.execute_input": "2021-06-07T12:22:03.846879Z",
     "iopub.status.busy": "2021-06-07T12:22:03.846023Z",
     "iopub.status.idle": "2021-06-07T12:22:03.850323Z",
     "shell.execute_reply": "2021-06-07T12:22:03.849733Z",
     "shell.execute_reply.started": "2021-06-07T12:12:36.583413Z"
    },
    "papermill": {
     "duration": 0.053625,
     "end_time": "2021-06-07T12:22:03.850484",
     "exception": false,
     "start_time": "2021-06-07T12:22:03.796859",
     "status": "completed"
    },
    "tags": []
   },
   "outputs": [
    {
     "data": {
      "text/plain": [
       "Index(['Age', 'Vintage', 'Avg_Account_Balance', 'Is_Lead', 'Gender_Male',\n",
       "       'Occupation_Other', 'Occupation_Salaried', 'Occupation_Self_Employed',\n",
       "       'Credit_Product_Yes', 'Channel_Code_X2', 'Channel_Code_X3',\n",
       "       'Channel_Code_X4', 'Is_Active_Yes'],\n",
       "      dtype='object')"
      ]
     },
     "execution_count": 19,
     "metadata": {},
     "output_type": "execute_result"
    }
   ],
   "source": [
    "df.columns"
   ]
  },
  {
   "cell_type": "code",
   "execution_count": 20,
   "id": "verified-leonard",
   "metadata": {
    "execution": {
     "iopub.execute_input": "2021-06-07T12:22:03.943548Z",
     "iopub.status.busy": "2021-06-07T12:22:03.942844Z",
     "iopub.status.idle": "2021-06-07T12:22:03.957475Z",
     "shell.execute_reply": "2021-06-07T12:22:03.956865Z",
     "shell.execute_reply.started": "2021-06-07T12:12:36.593155Z"
    },
    "papermill": {
     "duration": 0.063944,
     "end_time": "2021-06-07T12:22:03.957639",
     "exception": false,
     "start_time": "2021-06-07T12:22:03.893695",
     "status": "completed"
    },
    "tags": []
   },
   "outputs": [],
   "source": [
    "df = df[['Age', 'Vintage', 'Avg_Account_Balance', 'Gender_Male',\n",
    "       'Occupation_Other', 'Occupation_Salaried', 'Occupation_Self_Employed',\n",
    "       'Credit_Product_Yes', 'Channel_Code_X2', 'Channel_Code_X3',\n",
    "       'Channel_Code_X4', 'Is_Active_Yes', 'Is_Lead']]"
   ]
  },
  {
   "cell_type": "code",
   "execution_count": 21,
   "id": "whole-chart",
   "metadata": {
    "execution": {
     "iopub.execute_input": "2021-06-07T12:22:04.046301Z",
     "iopub.status.busy": "2021-06-07T12:22:04.045354Z",
     "iopub.status.idle": "2021-06-07T12:22:04.051428Z",
     "shell.execute_reply": "2021-06-07T12:22:04.051939Z",
     "shell.execute_reply.started": "2021-06-07T12:12:36.614575Z"
    },
    "papermill": {
     "duration": 0.052109,
     "end_time": "2021-06-07T12:22:04.052212",
     "exception": false,
     "start_time": "2021-06-07T12:22:04.000103",
     "status": "completed"
    },
    "tags": []
   },
   "outputs": [
    {
     "data": {
      "text/plain": [
       "Index(['Age', 'Vintage', 'Avg_Account_Balance', 'Gender_Male',\n",
       "       'Occupation_Other', 'Occupation_Salaried', 'Occupation_Self_Employed',\n",
       "       'Credit_Product_Yes', 'Channel_Code_X2', 'Channel_Code_X3',\n",
       "       'Channel_Code_X4', 'Is_Active_Yes', 'Is_Lead'],\n",
       "      dtype='object')"
      ]
     },
     "execution_count": 21,
     "metadata": {},
     "output_type": "execute_result"
    }
   ],
   "source": [
    "df.columns"
   ]
  },
  {
   "cell_type": "code",
   "execution_count": 22,
   "id": "utility-infection",
   "metadata": {
    "execution": {
     "iopub.execute_input": "2021-06-07T12:22:04.146994Z",
     "iopub.status.busy": "2021-06-07T12:22:04.146280Z",
     "iopub.status.idle": "2021-06-07T12:22:04.159374Z",
     "shell.execute_reply": "2021-06-07T12:22:04.158794Z",
     "shell.execute_reply.started": "2021-06-07T12:12:36.625970Z"
    },
    "papermill": {
     "duration": 0.061189,
     "end_time": "2021-06-07T12:22:04.159543",
     "exception": false,
     "start_time": "2021-06-07T12:22:04.098354",
     "status": "completed"
    },
    "tags": []
   },
   "outputs": [],
   "source": [
    "X = df.drop('Is_Lead', axis=1)\n",
    "y = df['Is_Lead']"
   ]
  },
  {
   "cell_type": "code",
   "execution_count": 23,
   "id": "satellite-percentage",
   "metadata": {
    "execution": {
     "iopub.execute_input": "2021-06-07T12:22:04.255691Z",
     "iopub.status.busy": "2021-06-07T12:22:04.255013Z",
     "iopub.status.idle": "2021-06-07T12:22:04.394908Z",
     "shell.execute_reply": "2021-06-07T12:22:04.395598Z",
     "shell.execute_reply.started": "2021-06-07T12:12:36.650705Z"
    },
    "papermill": {
     "duration": 0.191685,
     "end_time": "2021-06-07T12:22:04.395829",
     "exception": false,
     "start_time": "2021-06-07T12:22:04.204144",
     "status": "completed"
    },
    "tags": []
   },
   "outputs": [],
   "source": [
    "from imblearn.over_sampling import RandomOverSampler\n",
    "\n",
    "os = RandomOverSampler(random_state=42)"
   ]
  },
  {
   "cell_type": "code",
   "execution_count": 24,
   "id": "divine-document",
   "metadata": {
    "execution": {
     "iopub.execute_input": "2021-06-07T12:22:04.491105Z",
     "iopub.status.busy": "2021-06-07T12:22:04.490439Z",
     "iopub.status.idle": "2021-06-07T12:22:04.774399Z",
     "shell.execute_reply": "2021-06-07T12:22:04.775010Z",
     "shell.execute_reply.started": "2021-06-07T12:12:36.787648Z"
    },
    "papermill": {
     "duration": 0.331333,
     "end_time": "2021-06-07T12:22:04.775233",
     "exception": false,
     "start_time": "2021-06-07T12:22:04.443900",
     "status": "completed"
    },
    "tags": []
   },
   "outputs": [],
   "source": [
    "X_res, y_res = os.fit_resample(X, y)"
   ]
  },
  {
   "cell_type": "code",
   "execution_count": 25,
   "id": "brutal-doctor",
   "metadata": {
    "execution": {
     "iopub.execute_input": "2021-06-07T12:22:04.871216Z",
     "iopub.status.busy": "2021-06-07T12:22:04.870523Z",
     "iopub.status.idle": "2021-06-07T12:22:04.874558Z",
     "shell.execute_reply": "2021-06-07T12:22:04.874031Z",
     "shell.execute_reply.started": "2021-06-07T12:12:37.073766Z"
    },
    "papermill": {
     "duration": 0.053891,
     "end_time": "2021-06-07T12:22:04.874739",
     "exception": false,
     "start_time": "2021-06-07T12:22:04.820848",
     "status": "completed"
    },
    "tags": []
   },
   "outputs": [
    {
     "data": {
      "text/plain": [
       "(374874, 374874)"
      ]
     },
     "execution_count": 25,
     "metadata": {},
     "output_type": "execute_result"
    }
   ],
   "source": [
    "X_res.shape[0], y_res.shape[0]"
   ]
  },
  {
   "cell_type": "code",
   "execution_count": 26,
   "id": "ordered-institute",
   "metadata": {
    "execution": {
     "iopub.execute_input": "2021-06-07T12:22:05.078952Z",
     "iopub.status.busy": "2021-06-07T12:22:05.078062Z",
     "iopub.status.idle": "2021-06-07T12:22:05.084873Z",
     "shell.execute_reply": "2021-06-07T12:22:05.083945Z",
     "shell.execute_reply.started": "2021-06-07T12:12:37.082246Z"
    },
    "papermill": {
     "duration": 0.166822,
     "end_time": "2021-06-07T12:22:05.085109",
     "exception": false,
     "start_time": "2021-06-07T12:22:04.918287",
     "status": "completed"
    },
    "tags": []
   },
   "outputs": [
    {
     "name": "stdout",
     "output_type": "stream",
     "text": [
      "Original dataset shape Counter({0: 187437, 1: 58288})\n",
      "Resampled dataset shape Counter({0: 187437, 1: 187437})\n"
     ]
    }
   ],
   "source": [
    "print('Original dataset shape {}'.format(Counter(y)))\n",
    "print('Resampled dataset shape {}'.format(Counter(y_res)))"
   ]
  },
  {
   "cell_type": "code",
   "execution_count": 27,
   "id": "greater-engineering",
   "metadata": {
    "execution": {
     "iopub.execute_input": "2021-06-07T12:22:05.183512Z",
     "iopub.status.busy": "2021-06-07T12:22:05.182832Z",
     "iopub.status.idle": "2021-06-07T12:22:05.294560Z",
     "shell.execute_reply": "2021-06-07T12:22:05.293866Z",
     "shell.execute_reply.started": "2021-06-07T12:12:37.208453Z"
    },
    "papermill": {
     "duration": 0.163485,
     "end_time": "2021-06-07T12:22:05.294769",
     "exception": false,
     "start_time": "2021-06-07T12:22:05.131284",
     "status": "completed"
    },
    "tags": []
   },
   "outputs": [],
   "source": [
    "X_train, X_test, y_train, y_test = train_test_split(X_res, y_res, test_size=0.2, random_state=42)"
   ]
  },
  {
   "cell_type": "code",
   "execution_count": 28,
   "id": "rental-dining",
   "metadata": {
    "execution": {
     "iopub.execute_input": "2021-06-07T12:22:05.393046Z",
     "iopub.status.busy": "2021-06-07T12:22:05.392330Z",
     "iopub.status.idle": "2021-06-07T12:22:05.500909Z",
     "shell.execute_reply": "2021-06-07T12:22:05.500241Z",
     "shell.execute_reply.started": "2021-06-07T12:12:37.324015Z"
    },
    "papermill": {
     "duration": 0.161387,
     "end_time": "2021-06-07T12:22:05.501073",
     "exception": false,
     "start_time": "2021-06-07T12:22:05.339686",
     "status": "completed"
    },
    "tags": []
   },
   "outputs": [],
   "source": [
    "from sklearn.preprocessing import MinMaxScaler\n",
    "mms = MinMaxScaler()\n",
    "\n",
    "X_train = mms.fit_transform(X_train)\n",
    "X_test = mms.transform(X_test)"
   ]
  },
  {
   "cell_type": "code",
   "execution_count": 29,
   "id": "legendary-ticket",
   "metadata": {
    "execution": {
     "iopub.execute_input": "2021-06-07T12:22:05.597231Z",
     "iopub.status.busy": "2021-06-07T12:22:05.596497Z",
     "iopub.status.idle": "2021-06-07T12:26:26.137238Z",
     "shell.execute_reply": "2021-06-07T12:26:26.138008Z",
     "shell.execute_reply.started": "2021-06-07T12:12:37.438252Z"
    },
    "papermill": {
     "duration": 260.592907,
     "end_time": "2021-06-07T12:26:26.138286",
     "exception": false,
     "start_time": "2021-06-07T12:22:05.545379",
     "status": "completed"
    },
    "tags": []
   },
   "outputs": [
    {
     "name": "stdout",
     "output_type": "stream",
     "text": [
      "Accuracy Score of Random Forest Classifier : 0.880920306768923\n",
      "Confusion Matrix : \n",
      "[[30075  7484]\n",
      " [ 1444 35972]]\n",
      "Classification Report : \n",
      "              precision    recall  f1-score   support\n",
      "\n",
      "           0       0.95      0.80      0.87     37559\n",
      "           1       0.83      0.96      0.89     37416\n",
      "\n",
      "    accuracy                           0.88     74975\n",
      "   macro avg       0.89      0.88      0.88     74975\n",
      "weighted avg       0.89      0.88      0.88     74975\n",
      "\n"
     ]
    }
   ],
   "source": [
    "rf_model = RandomForestClassifier(n_estimators=500)\n",
    "rf_model.fit(X_train, y_train)\n",
    "y_pred = rf_model.predict(X_test)\n",
    "\n",
    "acc_lr = accuracy_score(y_test, y_pred)\n",
    "conf = confusion_matrix(y_test, y_pred)\n",
    "clf_report = classification_report(y_test, y_pred)\n",
    "print(f\"Accuracy Score of Random Forest Classifier : {acc_lr}\")\n",
    "print(f\"Confusion Matrix : \\n{conf}\")\n",
    "print(f\"Classification Report : \\n{clf_report}\")"
   ]
  },
  {
   "cell_type": "code",
   "execution_count": 30,
   "id": "excellent-slovenia",
   "metadata": {
    "execution": {
     "iopub.execute_input": "2021-06-07T12:26:26.233411Z",
     "iopub.status.busy": "2021-06-07T12:26:26.232681Z",
     "iopub.status.idle": "2021-06-07T12:26:38.955503Z",
     "shell.execute_reply": "2021-06-07T12:26:38.956055Z",
     "shell.execute_reply.started": "2021-06-07T12:17:10.293560Z"
    },
    "papermill": {
     "duration": 12.773147,
     "end_time": "2021-06-07T12:26:38.956261",
     "exception": false,
     "start_time": "2021-06-07T12:26:26.183114",
     "status": "completed"
    },
    "tags": []
   },
   "outputs": [
    {
     "name": "stdout",
     "output_type": "stream",
     "text": [
      "Accuracy Score of Ada Boost Classifier : 0.6900166722240747\n",
      "Confusion Matrix : \n",
      "[[23798 13761]\n",
      " [ 9480 27936]]\n",
      "Classification Report : \n",
      "              precision    recall  f1-score   support\n",
      "\n",
      "           0       0.72      0.63      0.67     37559\n",
      "           1       0.67      0.75      0.71     37416\n",
      "\n",
      "    accuracy                           0.69     74975\n",
      "   macro avg       0.69      0.69      0.69     74975\n",
      "weighted avg       0.69      0.69      0.69     74975\n",
      "\n"
     ]
    }
   ],
   "source": [
    "from sklearn.ensemble import AdaBoostClassifier\n",
    "ada_classifier=AdaBoostClassifier()\n",
    "ada_classifier.fit(X_train, y_train)\n",
    "y_pred = ada_classifier.predict(X_test)\n",
    "\n",
    "acc_lr = accuracy_score(y_test, y_pred)\n",
    "conf = confusion_matrix(y_test, y_pred)\n",
    "clf_report = classification_report(y_test, y_pred)\n",
    "print(f\"Accuracy Score of Ada Boost Classifier : {acc_lr}\")\n",
    "print(f\"Confusion Matrix : \\n{conf}\")\n",
    "print(f\"Classification Report : \\n{clf_report}\")"
   ]
  },
  {
   "cell_type": "code",
   "execution_count": 31,
   "id": "present-boston",
   "metadata": {
    "execution": {
     "iopub.execute_input": "2021-06-07T12:26:39.053489Z",
     "iopub.status.busy": "2021-06-07T12:26:39.052825Z",
     "iopub.status.idle": "2021-06-07T12:28:43.494891Z",
     "shell.execute_reply": "2021-06-07T12:28:43.495443Z",
     "shell.execute_reply.started": "2021-06-07T12:17:24.149143Z"
    },
    "papermill": {
     "duration": 124.494765,
     "end_time": "2021-06-07T12:28:43.495677",
     "exception": false,
     "start_time": "2021-06-07T12:26:39.000912",
     "status": "completed"
    },
    "tags": []
   },
   "outputs": [
    {
     "name": "stdout",
     "output_type": "stream",
     "text": [
      "Accuracy Score of K-Neighbors Classifier : 0.7477292430810271\n",
      "Confusion Matrix : \n",
      "[[25122 12437]\n",
      " [ 6477 30939]]\n",
      "Classification Report : \n",
      "              precision    recall  f1-score   support\n",
      "\n",
      "           0       0.80      0.67      0.73     37559\n",
      "           1       0.71      0.83      0.77     37416\n",
      "\n",
      "    accuracy                           0.75     74975\n",
      "   macro avg       0.75      0.75      0.75     74975\n",
      "weighted avg       0.75      0.75      0.75     74975\n",
      "\n"
     ]
    }
   ],
   "source": [
    "from sklearn.neighbors import KNeighborsClassifier\n",
    "knn_classifier=KNeighborsClassifier()\n",
    "knn_classifier.fit(X_train, y_train)\n",
    "y_pred = knn_classifier.predict(X_test)\n",
    "\n",
    "acc_lr = accuracy_score(y_test, y_pred)\n",
    "conf = confusion_matrix(y_test, y_pred)\n",
    "clf_report = classification_report(y_test, y_pred)\n",
    "print(f\"Accuracy Score of K-Neighbors Classifier : {acc_lr}\")\n",
    "print(f\"Confusion Matrix : \\n{conf}\")\n",
    "print(f\"Classification Report : \\n{clf_report}\")"
   ]
  },
  {
   "cell_type": "code",
   "execution_count": 32,
   "id": "turned-columbia",
   "metadata": {
    "execution": {
     "iopub.execute_input": "2021-06-07T12:28:43.590582Z",
     "iopub.status.busy": "2021-06-07T12:28:43.589792Z",
     "iopub.status.idle": "2021-06-07T12:28:46.195854Z",
     "shell.execute_reply": "2021-06-07T12:28:46.196486Z",
     "shell.execute_reply.started": "2021-06-07T12:19:32.989622Z"
    },
    "papermill": {
     "duration": 2.657343,
     "end_time": "2021-06-07T12:28:46.196736",
     "exception": false,
     "start_time": "2021-06-07T12:28:43.539393",
     "status": "completed"
    },
    "tags": []
   },
   "outputs": [
    {
     "name": "stdout",
     "output_type": "stream",
     "text": [
      "Accuracy Score of Logistic Regression : 0.661407135711904\n",
      "Confusion Matrix : \n",
      "[[22066 15493]\n",
      " [ 9893 27523]]\n",
      "Classification Report : \n",
      "              precision    recall  f1-score   support\n",
      "\n",
      "           0       0.69      0.59      0.63     37559\n",
      "           1       0.64      0.74      0.68     37416\n",
      "\n",
      "    accuracy                           0.66     74975\n",
      "   macro avg       0.67      0.66      0.66     74975\n",
      "weighted avg       0.67      0.66      0.66     74975\n",
      "\n"
     ]
    }
   ],
   "source": [
    "from sklearn.linear_model import LogisticRegression\n",
    "log_classifier=LogisticRegression()\n",
    "log_classifier.fit(X_train, y_train)\n",
    "y_pred = log_classifier.predict(X_test)\n",
    "\n",
    "acc_lr = accuracy_score(y_test, y_pred)\n",
    "conf = confusion_matrix(y_test, y_pred)\n",
    "clf_report = classification_report(y_test, y_pred)\n",
    "print(f\"Accuracy Score of Logistic Regression : {acc_lr}\")\n",
    "print(f\"Confusion Matrix : \\n{conf}\")\n",
    "print(f\"Classification Report : \\n{clf_report}\")"
   ]
  },
  {
   "cell_type": "markdown",
   "id": "threatened-valuation",
   "metadata": {
    "papermill": {
     "duration": 0.044424,
     "end_time": "2021-06-07T12:28:46.285481",
     "exception": false,
     "start_time": "2021-06-07T12:28:46.241057",
     "status": "completed"
    },
    "tags": []
   },
   "source": [
    "#### Best threshold for maximum accuracy"
   ]
  },
  {
   "cell_type": "code",
   "execution_count": 33,
   "id": "precious-vancouver",
   "metadata": {
    "execution": {
     "iopub.execute_input": "2021-06-07T12:28:46.378795Z",
     "iopub.status.busy": "2021-06-07T12:28:46.378113Z",
     "iopub.status.idle": "2021-06-07T12:29:06.917979Z",
     "shell.execute_reply": "2021-06-07T12:29:06.918458Z",
     "shell.execute_reply.started": "2021-06-07T12:19:35.636102Z"
    },
    "papermill": {
     "duration": 20.589319,
     "end_time": "2021-06-07T12:29:06.918680",
     "exception": false,
     "start_time": "2021-06-07T12:28:46.329361",
     "status": "completed"
    },
    "tags": []
   },
   "outputs": [],
   "source": [
    "final_prediction=rf_model.predict_proba(X_test)[:,1]"
   ]
  },
  {
   "cell_type": "code",
   "execution_count": 34,
   "id": "adverse-compilation",
   "metadata": {
    "collapsed": true,
    "execution": {
     "iopub.execute_input": "2021-06-07T12:29:07.015387Z",
     "iopub.status.busy": "2021-06-07T12:29:07.014669Z",
     "iopub.status.idle": "2021-06-07T12:29:07.044057Z",
     "shell.execute_reply": "2021-06-07T12:29:07.044573Z",
     "shell.execute_reply.started": "2021-06-07T12:19:56.933076Z"
    },
    "jupyter": {
     "outputs_hidden": true
    },
    "papermill": {
     "duration": 0.080794,
     "end_time": "2021-06-07T12:29:07.044818",
     "exception": false,
     "start_time": "2021-06-07T12:29:06.964024",
     "status": "completed"
    },
    "tags": []
   },
   "outputs": [
    {
     "data": {
      "text/plain": [
       "array([2.        , 1.        , 0.998     , 0.996     , 0.994     ,\n",
       "       0.992     , 0.9915    , 0.99      , 0.988     , 0.986     ,\n",
       "       0.984     , 0.982     , 0.98      , 0.97896667, 0.978     ,\n",
       "       0.976     , 0.974     , 0.972     , 0.97      , 0.968     ,\n",
       "       0.966     , 0.964     , 0.962     , 0.96      , 0.958     ,\n",
       "       0.956     , 0.954     , 0.952     , 0.951     , 0.95      ,\n",
       "       0.948     , 0.94793333, 0.946     , 0.944     , 0.94343333,\n",
       "       0.942     , 0.94      , 0.938     , 0.936     , 0.934     ,\n",
       "       0.932     , 0.93      , 0.928     , 0.926     , 0.924     ,\n",
       "       0.922     , 0.92      , 0.91925   , 0.918     , 0.91755556,\n",
       "       0.916     , 0.914     , 0.912     , 0.91      , 0.908     ,\n",
       "       0.906     , 0.904     , 0.902     , 0.898     , 0.896     ,\n",
       "       0.894     , 0.892     , 0.89      , 0.888     , 0.88633333,\n",
       "       0.886     , 0.884     , 0.882     , 0.88      , 0.878     ,\n",
       "       0.876     , 0.874     , 0.872     , 0.87      , 0.868     ,\n",
       "       0.866     , 0.864     , 0.862     , 0.86      , 0.858     ,\n",
       "       0.856     , 0.854     , 0.852     , 0.85      , 0.848     ,\n",
       "       0.846     , 0.84584615, 0.844     , 0.842     , 0.8415    ,\n",
       "       0.84      , 0.838     , 0.836     , 0.834     , 0.832     ,\n",
       "       0.83      , 0.828     , 0.826     , 0.824     , 0.822     ,\n",
       "       0.82      , 0.8192    , 0.818     , 0.816     , 0.814     ,\n",
       "       0.812     , 0.81      , 0.808     , 0.806     , 0.804     ,\n",
       "       0.802     , 0.8       , 0.798     , 0.796     , 0.79554841,\n",
       "       0.794     , 0.792     , 0.79086241, 0.79066667, 0.79      ,\n",
       "       0.788     , 0.786     , 0.784     , 0.782     , 0.78      ,\n",
       "       0.778     , 0.776     , 0.774     , 0.7729083 , 0.772     ,\n",
       "       0.77      , 0.768     , 0.766     , 0.764     , 0.76316667,\n",
       "       0.762     , 0.76      , 0.758     , 0.756     , 0.754     ,\n",
       "       0.752     , 0.75      , 0.748     , 0.746     , 0.744     ,\n",
       "       0.742     , 0.74      , 0.738     , 0.736     , 0.734     ,\n",
       "       0.73375   , 0.732     , 0.73      , 0.728     , 0.726     ,\n",
       "       0.724     , 0.722     , 0.72      , 0.718     , 0.716     ,\n",
       "       0.714     , 0.712     , 0.71      , 0.708     , 0.706     ,\n",
       "       0.704     , 0.702     , 0.7       , 0.698     , 0.696     ,\n",
       "       0.6958381 , 0.694     , 0.6935    , 0.692     , 0.69      ,\n",
       "       0.688     , 0.686     , 0.684     , 0.682     , 0.68055476,\n",
       "       0.68      , 0.678     , 0.676     , 0.674     , 0.672     ,\n",
       "       0.67      , 0.668     , 0.666     , 0.664     , 0.662     ,\n",
       "       0.66      , 0.65988968, 0.658     , 0.6575    , 0.656     ,\n",
       "       0.654     , 0.652     , 0.65      , 0.648     , 0.646     ,\n",
       "       0.644     , 0.642     , 0.64      , 0.638     , 0.636     ,\n",
       "       0.634     , 0.632     , 0.63      , 0.628     , 0.626     ,\n",
       "       0.624     , 0.622     , 0.62      , 0.618     , 0.616     ,\n",
       "       0.614     , 0.612     , 0.61      , 0.608     , 0.606     ,\n",
       "       0.604     , 0.602     , 0.6       , 0.598     , 0.596     ,\n",
       "       0.592     , 0.59      , 0.588     , 0.586     , 0.584     ,\n",
       "       0.582     , 0.58      , 0.578     , 0.576     , 0.574     ,\n",
       "       0.572     , 0.57      , 0.568     , 0.566     , 0.564     ,\n",
       "       0.562     , 0.56      , 0.558     , 0.556     , 0.554     ,\n",
       "       0.55341667, 0.552     , 0.55      , 0.548     , 0.546     ,\n",
       "       0.544     , 0.542     , 0.54      , 0.53933968, 0.538     ,\n",
       "       0.536     , 0.534     , 0.532     , 0.53      , 0.528     ,\n",
       "       0.526     , 0.524     , 0.522     , 0.52      , 0.518     ,\n",
       "       0.516     , 0.514     , 0.512     , 0.51      , 0.508     ,\n",
       "       0.506     , 0.504     , 0.502     , 0.5       , 0.498     ,\n",
       "       0.496     , 0.494     , 0.492     , 0.49      , 0.488     ,\n",
       "       0.486     , 0.484     , 0.482     , 0.48      , 0.478     ,\n",
       "       0.476     , 0.474     , 0.4736    , 0.472     , 0.47      ,\n",
       "       0.468     , 0.466     , 0.464     , 0.462     , 0.46      ,\n",
       "       0.458     , 0.456     , 0.454     , 0.452     , 0.45      ,\n",
       "       0.448     , 0.446     , 0.444     , 0.442     , 0.44      ,\n",
       "       0.438     , 0.437     , 0.436     , 0.434     , 0.432     ,\n",
       "       0.43      , 0.428     , 0.4276    , 0.426     , 0.424     ,\n",
       "       0.4222    , 0.422     , 0.42      , 0.418     , 0.416     ,\n",
       "       0.414     , 0.412     , 0.41      , 0.408     , 0.406     ,\n",
       "       0.404     , 0.402     , 0.4       , 0.398     , 0.396     ,\n",
       "       0.394     , 0.392     , 0.39      , 0.38953846, 0.388     ,\n",
       "       0.386     , 0.384     , 0.382     , 0.38      , 0.378     ,\n",
       "       0.376     , 0.374     , 0.372     , 0.37      , 0.368     ,\n",
       "       0.366     , 0.364     , 0.362     , 0.36      , 0.358     ,\n",
       "       0.356     , 0.354     , 0.352     , 0.35      , 0.348     ,\n",
       "       0.346     , 0.344     , 0.342     , 0.34      , 0.338     ,\n",
       "       0.336     , 0.334     , 0.3335    , 0.332     , 0.33144444,\n",
       "       0.33      , 0.328     , 0.326     , 0.324     , 0.322     ,\n",
       "       0.32      , 0.318     , 0.316     , 0.314     , 0.312     ,\n",
       "       0.31      , 0.308     , 0.306     , 0.304     , 0.302     ,\n",
       "       0.3       , 0.298     , 0.296     , 0.294     , 0.292     ,\n",
       "       0.2908    , 0.29      , 0.288     , 0.28626624, 0.286     ,\n",
       "       0.284     , 0.282     , 0.28      , 0.27826624, 0.278     ,\n",
       "       0.276     , 0.274     , 0.272     , 0.27      , 0.268     ,\n",
       "       0.266     , 0.264     , 0.262     , 0.26      , 0.258     ,\n",
       "       0.256     , 0.25525   , 0.254     , 0.252     , 0.25      ,\n",
       "       0.248     , 0.246     , 0.244     , 0.242     , 0.24      ,\n",
       "       0.238     , 0.236     , 0.23424286, 0.234     , 0.232     ,\n",
       "       0.23      , 0.22866667, 0.228     , 0.226     , 0.224     ,\n",
       "       0.222     , 0.22      , 0.218     , 0.216     , 0.214     ,\n",
       "       0.21266667, 0.212     , 0.21      , 0.208     , 0.206     ,\n",
       "       0.204     , 0.202     , 0.2       , 0.198     , 0.196     ,\n",
       "       0.194     , 0.19220635, 0.192     , 0.19      , 0.188     ,\n",
       "       0.186     , 0.184     , 0.182     , 0.181     , 0.18      ,\n",
       "       0.17908571, 0.178     , 0.176     , 0.174     , 0.172     ,\n",
       "       0.17      , 0.168     , 0.166     , 0.164     , 0.162     ,\n",
       "       0.16      , 0.158     , 0.156     , 0.1556    , 0.154     ,\n",
       "       0.152     , 0.15      , 0.148     , 0.146     , 0.144     ,\n",
       "       0.142     , 0.14      , 0.138     , 0.136     , 0.134     ,\n",
       "       0.132     , 0.13      , 0.128     , 0.126     , 0.124     ,\n",
       "       0.122     , 0.12      , 0.118     , 0.116     , 0.11463333,\n",
       "       0.114     , 0.112     , 0.11      , 0.108     , 0.106     ,\n",
       "       0.104     , 0.10277143, 0.102     , 0.1015    , 0.1       ,\n",
       "       0.09871111, 0.098     , 0.096     , 0.094     , 0.092     ,\n",
       "       0.09099603, 0.09      , 0.088     , 0.086     , 0.084     ,\n",
       "       0.082     , 0.08      , 0.07883333, 0.078     , 0.076     ,\n",
       "       0.074     , 0.072     , 0.071     , 0.07      , 0.068     ,\n",
       "       0.066     , 0.064     , 0.062     , 0.06      , 0.058     ,\n",
       "       0.056     , 0.05541667, 0.054     , 0.052     , 0.051     ,\n",
       "       0.05      , 0.048     , 0.046     , 0.044     , 0.043     ,\n",
       "       0.042     , 0.04141429, 0.04      , 0.038     , 0.036     ,\n",
       "       0.034     , 0.032     , 0.03133333, 0.03      , 0.028     ,\n",
       "       0.026     , 0.02575   , 0.024     , 0.02358095, 0.022     ,\n",
       "       0.02083333, 0.02      , 0.0185    , 0.018     , 0.016     ,\n",
       "       0.0141    , 0.014     , 0.0128    , 0.012     , 0.01096667,\n",
       "       0.01      , 0.00833333, 0.008     , 0.00781818, 0.006     ,\n",
       "       0.0056    , 0.004     , 0.00366667, 0.002     , 0.        ])"
      ]
     },
     "execution_count": 34,
     "metadata": {},
     "output_type": "execute_result"
    }
   ],
   "source": [
    "#### Calculate the ROC Curve\n",
    "\n",
    "fpr, tpr, thresholds = roc_curve(y_test, final_prediction)\n",
    "thresholds"
   ]
  },
  {
   "cell_type": "code",
   "execution_count": 35,
   "id": "opening-platform",
   "metadata": {
    "execution": {
     "iopub.execute_input": "2021-06-07T12:29:07.138376Z",
     "iopub.status.busy": "2021-06-07T12:29:07.137703Z",
     "iopub.status.idle": "2021-06-07T12:29:07.142643Z",
     "shell.execute_reply": "2021-06-07T12:29:07.143183Z",
     "shell.execute_reply.started": "2021-06-07T12:19:56.961080Z"
    },
    "papermill": {
     "duration": 0.052975,
     "end_time": "2021-06-07T12:29:07.143376",
     "exception": false,
     "start_time": "2021-06-07T12:29:07.090401",
     "status": "completed"
    },
    "tags": []
   },
   "outputs": [],
   "source": [
    "def plot_roc_curve(fpr, tpr):\n",
    "    plt.plot(fpr, tpr, color='orange', label='ROC')\n",
    "    plt.plot([0, 1], [0, 1], color='darkblue', linestyle='--')\n",
    "    plt.xlabel('False Positive Rate')\n",
    "    plt.ylabel('True Positive Rate')\n",
    "    plt.title('Receiver Operating Characteristic (ROC) Curve')\n",
    "    plt.legend()\n",
    "    plt.show()"
   ]
  },
  {
   "cell_type": "code",
   "execution_count": 36,
   "id": "digital-little",
   "metadata": {
    "execution": {
     "iopub.execute_input": "2021-06-07T12:29:07.236167Z",
     "iopub.status.busy": "2021-06-07T12:29:07.235517Z",
     "iopub.status.idle": "2021-06-07T12:29:07.407341Z",
     "shell.execute_reply": "2021-06-07T12:29:07.407866Z",
     "shell.execute_reply.started": "2021-06-07T12:19:56.969377Z"
    },
    "papermill": {
     "duration": 0.219776,
     "end_time": "2021-06-07T12:29:07.408099",
     "exception": false,
     "start_time": "2021-06-07T12:29:07.188323",
     "status": "completed"
    },
    "tags": []
   },
   "outputs": [
    {
     "data": {
      "image/png": "[encoded data removed]",
      "text/plain": [
       "<Figure size 432x288 with 1 Axes>"
      ]
     },
     "metadata": {
      "needs_background": "light"
     },
     "output_type": "display_data"
    }
   ],
   "source": [
    "plot_roc_curve(fpr,tpr)"
   ]
  },
  {
   "cell_type": "code",
   "execution_count": 37,
   "id": "naked-romania",
   "metadata": {
    "execution": {
     "iopub.execute_input": "2021-06-07T12:29:07.503910Z",
     "iopub.status.busy": "2021-06-07T12:29:07.503201Z",
     "iopub.status.idle": "2021-06-07T12:29:12.973475Z",
     "shell.execute_reply": "2021-06-07T12:29:12.974030Z",
     "shell.execute_reply.started": "2021-06-07T12:19:57.155280Z"
    },
    "papermill": {
     "duration": 5.519864,
     "end_time": "2021-06-07T12:29:12.974250",
     "exception": false,
     "start_time": "2021-06-07T12:29:07.454386",
     "status": "completed"
    },
    "tags": []
   },
   "outputs": [],
   "source": [
    "ts_pred = rf_model.predict_proba(ts)"
   ]
  },
  {
   "cell_type": "code",
   "execution_count": 38,
   "id": "forced-figure",
   "metadata": {
    "execution": {
     "iopub.execute_input": "2021-06-07T12:29:13.069551Z",
     "iopub.status.busy": "2021-06-07T12:29:13.068923Z",
     "iopub.status.idle": "2021-06-07T12:29:13.075042Z",
     "shell.execute_reply": "2021-06-07T12:29:13.074524Z",
     "shell.execute_reply.started": "2021-06-07T12:20:02.862623Z"
    },
    "papermill": {
     "duration": 0.05471,
     "end_time": "2021-06-07T12:29:13.075207",
     "exception": false,
     "start_time": "2021-06-07T12:29:13.020497",
     "status": "completed"
    },
    "tags": []
   },
   "outputs": [
    {
     "data": {
      "text/plain": [
       "array([[0.334, 0.666],\n",
       "       [0.444, 0.556],\n",
       "       [0.046, 0.954],\n",
       "       ...,\n",
       "       [0.052, 0.948],\n",
       "       [0.816, 0.184],\n",
       "       [0.046, 0.954]])"
      ]
     },
     "execution_count": 38,
     "metadata": {},
     "output_type": "execute_result"
    }
   ],
   "source": [
    "ts_pred"
   ]
  },
  {
   "cell_type": "code",
   "execution_count": 39,
   "id": "stuck-engineer",
   "metadata": {
    "execution": {
     "iopub.execute_input": "2021-06-07T12:29:13.173660Z",
     "iopub.status.busy": "2021-06-07T12:29:13.173001Z",
     "iopub.status.idle": "2021-06-07T12:29:13.178245Z",
     "shell.execute_reply": "2021-06-07T12:29:13.177742Z",
     "shell.execute_reply.started": "2021-06-07T12:20:02.869871Z"
    },
    "papermill": {
     "duration": 0.056831,
     "end_time": "2021-06-07T12:29:13.178396",
     "exception": false,
     "start_time": "2021-06-07T12:29:13.121565",
     "status": "completed"
    },
    "tags": []
   },
   "outputs": [],
   "source": [
    "result = pd.DataFrame({\"ID\": ts_id, \"Is_Lead\": ts_pred[:,1]})"
   ]
  },
  {
   "cell_type": "code",
   "execution_count": 40,
   "id": "ambient-output",
   "metadata": {
    "execution": {
     "iopub.execute_input": "2021-06-07T12:29:13.275549Z",
     "iopub.status.busy": "2021-06-07T12:29:13.274909Z",
     "iopub.status.idle": "2021-06-07T12:29:13.569250Z",
     "shell.execute_reply": "2021-06-07T12:29:13.568494Z",
     "shell.execute_reply.started": "2021-06-07T12:20:02.888346Z"
    },
    "papermill": {
     "duration": 0.34498,
     "end_time": "2021-06-07T12:29:13.569419",
     "exception": false,
     "start_time": "2021-06-07T12:29:13.224439",
     "status": "completed"
    },
    "tags": []
   },
   "outputs": [],
   "source": [
    "result.to_csv(\"submission_proba.csv\", index=False)"
   ]
  },
  {
   "cell_type": "code",
   "execution_count": 41,
   "id": "korean-workstation",
   "metadata": {
    "execution": {
     "iopub.execute_input": "2021-06-07T12:29:13.667917Z",
     "iopub.status.busy": "2021-06-07T12:29:13.667253Z",
     "iopub.status.idle": "2021-06-07T12:29:13.669990Z",
     "shell.execute_reply": "2021-06-07T12:29:13.670611Z",
     "shell.execute_reply.started": "2021-06-07T12:20:03.189796Z"
    },
    "papermill": {
     "duration": 0.054854,
     "end_time": "2021-06-07T12:29:13.670855",
     "exception": false,
     "start_time": "2021-06-07T12:29:13.616001",
     "status": "completed"
    },
    "tags": []
   },
   "outputs": [
    {
     "data": {
      "text/html": [
       "<a href='submission_proba.csv' target='_blank'>submission_proba.csv</a><br>"
      ],
      "text/plain": [
       "/kaggle/working/submission_proba.csv"
      ]
     },
     "execution_count": 41,
     "metadata": {},
     "output_type": "execute_result"
    }
   ],
   "source": [
    "from IPython.display import FileLink\n",
    "\n",
    "FileLink('submission_proba.csv')"
   ]
  }
 ],
 "metadata": {
  "kernelspec": {
   "display_name": "Python 3",
   "language": "python",
   "name": "python3"
  },
  "language_info": {
   "codemirror_mode": {
    "name": "ipython",
    "version": 3
   },
   "file_extension": ".py",
   "mimetype": "text/x-python",
   "name": "python",
   "nbconvert_exporter": "python",
   "pygments_lexer": "ipython3",
   "version": "3.7.10"
  },
  "papermill": {
   "default_parameters": {},
   "duration": 455.145979,
   "end_time": "2021-06-07T12:29:15.898700",
   "environment_variables": {},
   "exception": null,
   "input_path": "__notebook__.ipynb",
   "output_path": "__notebook__.ipynb",
   "parameters": {},
   "start_time": "2021-06-07T12:21:40.752721",
   "version": "2.3.3"
  }
 },
 "nbformat": 4,
 "nbformat_minor": 5
}
