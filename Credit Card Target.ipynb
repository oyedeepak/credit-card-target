{
 "cells": [
  {
   "cell_type": "code",
   "execution_count": 1,
   "id": "premium-pointer",
   "metadata": {
    "_cell_guid": "b1076dfc-b9ad-4769-8c92-a6c4dae69d19",
    "_uuid": "8f2839f25d086af736a60e9eeb907d3b93b6e0e5",
    "execution": {
     "iopub.execute_input": "2021-06-07T08:54:53.909539Z",
     "iopub.status.busy": "2021-06-07T08:54:53.908805Z",
     "iopub.status.idle": "2021-06-07T08:54:53.926320Z",
     "shell.execute_reply": "2021-06-07T08:54:53.926833Z",
     "shell.execute_reply.started": "2021-06-07T07:53:45.678038Z"
    },
    "papermill": {
     "duration": 0.066893,
     "end_time": "2021-06-07T08:54:53.927212",
     "exception": false,
     "start_time": "2021-06-07T08:54:53.860319",
     "status": "completed"
    },
    "tags": []
   },
   "outputs": [
    {
     "name": "stdout",
     "output_type": "stream",
     "text": [
      "/kaggle/input/analytics-vidhya-job-a-thon-may-2021/train_s3TEQDk.csv\n",
      "/kaggle/input/analytics-vidhya-job-a-thon-may-2021/test_mSzZ8RL.csv\n"
     ]
    }
   ],
   "source": [
    "# This Python 3 environment comes with many helpful analytics libraries installed\n",
    "# It is defined by the kaggle/python Docker image: https://github.com/kaggle/docker-python\n",
    "# For example, here's several helpful packages to load\n",
    "\n",
    "import numpy as np # linear algebra\n",
    "import pandas as pd # data processing, CSV file I/O (e.g. pd.read_csv)\n",
    "\n",
    "# Input data files are available in the read-only \"../input/\" directory\n",
    "# For example, running this (by clicking run or pressing Shift+Enter) will list all files under the input directory\n",
    "\n",
    "import os\n",
    "for dirname, _, filenames in os.walk('/kaggle/input'):\n",
    "    for filename in filenames:\n",
    "        print(os.path.join(dirname, filename))\n",
    "\n",
    "# You can write up to 20GB to the current directory (/kaggle/working/) that gets preserved as output when you create a version using \"Save & Run All\" \n",
    "# You can also write temporary files to /kaggle/temp/, but they won't be saved outside of the current session"
   ]
  },
  {
   "cell_type": "code",
   "execution_count": 2,
   "id": "proper-strap",
   "metadata": {
    "execution": {
     "iopub.execute_input": "2021-06-07T08:54:54.008596Z",
     "iopub.status.busy": "2021-06-07T08:54:54.007839Z",
     "iopub.status.idle": "2021-06-07T08:55:01.936639Z",
     "shell.execute_reply": "2021-06-07T08:55:01.935981Z",
     "shell.execute_reply.started": "2021-06-07T08:10:33.646373Z"
    },
    "papermill": {
     "duration": 7.972738,
     "end_time": "2021-06-07T08:55:01.936780",
     "exception": false,
     "start_time": "2021-06-07T08:54:53.964042",
     "status": "completed"
    },
    "tags": []
   },
   "outputs": [],
   "source": [
    "# Imported Libraries\n",
    "\n",
    "import numpy as np # linear algebra\n",
    "import pandas as pd # data processing, CSV file I/O (e.g. pd.read_csv)\n",
    "import tensorflow as tf\n",
    "import matplotlib.pyplot as plt\n",
    "import seaborn as sns\n",
    "from sklearn.manifold import TSNE\n",
    "from sklearn.decomposition import PCA, TruncatedSVD\n",
    "import matplotlib.patches as mpatches\n",
    "import time\n",
    "\n",
    "# Classifier Libraries\n",
    "from sklearn.linear_model import LogisticRegression\n",
    "from sklearn.svm import SVC\n",
    "from sklearn.neighbors import KNeighborsClassifier\n",
    "from sklearn.tree import DecisionTreeClassifier\n",
    "from sklearn.ensemble import RandomForestClassifier\n",
    "import collections\n",
    "\n",
    "\n",
    "# Other Libraries\n",
    "from sklearn.model_selection import train_test_split\n",
    "from sklearn.pipeline import make_pipeline\n",
    "from imblearn.pipeline import make_pipeline as imbalanced_make_pipeline\n",
    "from imblearn.over_sampling import SMOTE\n",
    "from imblearn.under_sampling import NearMiss\n",
    "from imblearn.metrics import classification_report_imbalanced\n",
    "from sklearn.metrics import accuracy_score, confusion_matrix, classification_report,roc_auc_score\n",
    "from sklearn.metrics import precision_score, accuracy_score, confusion_matrix, classification_report,roc_auc_score, roc_curve\n",
    "from collections import Counter\n",
    "from sklearn.model_selection import KFold, StratifiedKFold\n",
    "import warnings\n",
    "warnings.filterwarnings(\"ignore\")"
   ]
  },
  {
   "cell_type": "code",
   "execution_count": 3,
   "id": "occupational-arcade",
   "metadata": {
    "execution": {
     "iopub.execute_input": "2021-06-07T08:55:02.014168Z",
     "iopub.status.busy": "2021-06-07T08:55:02.013324Z",
     "iopub.status.idle": "2021-06-07T08:55:02.922422Z",
     "shell.execute_reply": "2021-06-07T08:55:02.923011Z",
     "shell.execute_reply.started": "2021-06-07T07:53:52.239834Z"
    },
    "papermill": {
     "duration": 0.950724,
     "end_time": "2021-06-07T08:55:02.923201",
     "exception": false,
     "start_time": "2021-06-07T08:55:01.972477",
     "status": "completed"
    },
    "tags": []
   },
   "outputs": [],
   "source": [
    "df = pd.read_csv('../input/analytics-vidhya-job-a-thon-may-2021/train_s3TEQDk.csv') # train data\n",
    "ts = pd.read_csv('../input/analytics-vidhya-job-a-thon-may-2021/test_mSzZ8RL.csv') # test data"
   ]
  },
  {
   "cell_type": "code",
   "execution_count": 4,
   "id": "turkish-discrimination",
   "metadata": {
    "execution": {
     "iopub.execute_input": "2021-06-07T08:55:03.006992Z",
     "iopub.status.busy": "2021-06-07T08:55:03.002284Z",
     "iopub.status.idle": "2021-06-07T08:55:03.017020Z",
     "shell.execute_reply": "2021-06-07T08:55:03.017529Z",
     "shell.execute_reply.started": "2021-06-07T07:53:53.059495Z"
    },
    "papermill": {
     "duration": 0.059601,
     "end_time": "2021-06-07T08:55:03.017702",
     "exception": false,
     "start_time": "2021-06-07T08:55:02.958101",
     "status": "completed"
    },
    "tags": []
   },
   "outputs": [
    {
     "data": {
      "text/plain": [
       "0         VBENBARO\n",
       "1         CCMEWNKY\n",
       "2         VK3KGA9M\n",
       "3         TT8RPZVC\n",
       "4         SHQZEYTZ\n",
       "            ...   \n",
       "105307    DBENJOYI\n",
       "105308    CWQ72DWS\n",
       "105309    HDESC8GU\n",
       "105310    2PW4SFCA\n",
       "105311    F2NOYPPZ\n",
       "Name: ID, Length: 105312, dtype: object"
      ]
     },
     "execution_count": 4,
     "metadata": {},
     "output_type": "execute_result"
    }
   ],
   "source": [
    "ts_id = ts['ID']\n",
    "ts_id"
   ]
  },
  {
   "cell_type": "code",
   "execution_count": 5,
   "id": "intellectual-elite",
   "metadata": {
    "execution": {
     "iopub.execute_input": "2021-06-07T08:55:03.097808Z",
     "iopub.status.busy": "2021-06-07T08:55:03.097049Z",
     "iopub.status.idle": "2021-06-07T08:55:03.118677Z",
     "shell.execute_reply": "2021-06-07T08:55:03.119217Z",
     "shell.execute_reply.started": "2021-06-07T07:53:53.079221Z"
    },
    "papermill": {
     "duration": 0.064864,
     "end_time": "2021-06-07T08:55:03.119390",
     "exception": false,
     "start_time": "2021-06-07T08:55:03.054526",
     "status": "completed"
    },
    "tags": []
   },
   "outputs": [
    {
     "data": {
      "text/html": [
       "<div>\n",
       "<style scoped>\n",
       "    .dataframe tbody tr th:only-of-type {\n",
       "        vertical-align: middle;\n",
       "    }\n",
       "\n",
       "    .dataframe tbody tr th {\n",
       "        vertical-align: top;\n",
       "    }\n",
       "\n",
       "    .dataframe thead th {\n",
       "        text-align: right;\n",
       "    }\n",
       "</style>\n",
       "<table border=\"1\" class=\"dataframe\">\n",
       "  <thead>\n",
       "    <tr style=\"text-align: right;\">\n",
       "      <th></th>\n",
       "      <th>ID</th>\n",
       "      <th>Gender</th>\n",
       "      <th>Age</th>\n",
       "      <th>Region_Code</th>\n",
       "      <th>Occupation</th>\n",
       "      <th>Channel_Code</th>\n",
       "      <th>Vintage</th>\n",
       "      <th>Credit_Product</th>\n",
       "      <th>Avg_Account_Balance</th>\n",
       "      <th>Is_Active</th>\n",
       "      <th>Is_Lead</th>\n",
       "    </tr>\n",
       "  </thead>\n",
       "  <tbody>\n",
       "    <tr>\n",
       "      <th>0</th>\n",
       "      <td>NNVBBKZB</td>\n",
       "      <td>Female</td>\n",
       "      <td>73</td>\n",
       "      <td>RG268</td>\n",
       "      <td>Other</td>\n",
       "      <td>X3</td>\n",
       "      <td>43</td>\n",
       "      <td>No</td>\n",
       "      <td>1045696</td>\n",
       "      <td>No</td>\n",
       "      <td>0</td>\n",
       "    </tr>\n",
       "    <tr>\n",
       "      <th>1</th>\n",
       "      <td>IDD62UNG</td>\n",
       "      <td>Female</td>\n",
       "      <td>30</td>\n",
       "      <td>RG277</td>\n",
       "      <td>Salaried</td>\n",
       "      <td>X1</td>\n",
       "      <td>32</td>\n",
       "      <td>No</td>\n",
       "      <td>581988</td>\n",
       "      <td>No</td>\n",
       "      <td>0</td>\n",
       "    </tr>\n",
       "    <tr>\n",
       "      <th>2</th>\n",
       "      <td>HD3DSEMC</td>\n",
       "      <td>Female</td>\n",
       "      <td>56</td>\n",
       "      <td>RG268</td>\n",
       "      <td>Self_Employed</td>\n",
       "      <td>X3</td>\n",
       "      <td>26</td>\n",
       "      <td>No</td>\n",
       "      <td>1484315</td>\n",
       "      <td>Yes</td>\n",
       "      <td>0</td>\n",
       "    </tr>\n",
       "    <tr>\n",
       "      <th>3</th>\n",
       "      <td>BF3NC7KV</td>\n",
       "      <td>Male</td>\n",
       "      <td>34</td>\n",
       "      <td>RG270</td>\n",
       "      <td>Salaried</td>\n",
       "      <td>X1</td>\n",
       "      <td>19</td>\n",
       "      <td>No</td>\n",
       "      <td>470454</td>\n",
       "      <td>No</td>\n",
       "      <td>0</td>\n",
       "    </tr>\n",
       "    <tr>\n",
       "      <th>4</th>\n",
       "      <td>TEASRWXV</td>\n",
       "      <td>Female</td>\n",
       "      <td>30</td>\n",
       "      <td>RG282</td>\n",
       "      <td>Salaried</td>\n",
       "      <td>X1</td>\n",
       "      <td>33</td>\n",
       "      <td>No</td>\n",
       "      <td>886787</td>\n",
       "      <td>No</td>\n",
       "      <td>0</td>\n",
       "    </tr>\n",
       "  </tbody>\n",
       "</table>\n",
       "</div>"
      ],
      "text/plain": [
       "         ID  Gender  Age Region_Code     Occupation Channel_Code  Vintage  \\\n",
       "0  NNVBBKZB  Female   73       RG268          Other           X3       43   \n",
       "1  IDD62UNG  Female   30       RG277       Salaried           X1       32   \n",
       "2  HD3DSEMC  Female   56       RG268  Self_Employed           X3       26   \n",
       "3  BF3NC7KV    Male   34       RG270       Salaried           X1       19   \n",
       "4  TEASRWXV  Female   30       RG282       Salaried           X1       33   \n",
       "\n",
       "  Credit_Product  Avg_Account_Balance Is_Active  Is_Lead  \n",
       "0             No              1045696        No        0  \n",
       "1             No               581988        No        0  \n",
       "2             No              1484315       Yes        0  \n",
       "3             No               470454        No        0  \n",
       "4             No               886787        No        0  "
      ]
     },
     "execution_count": 5,
     "metadata": {},
     "output_type": "execute_result"
    }
   ],
   "source": [
    "df.head()"
   ]
  },
  {
   "cell_type": "code",
   "execution_count": 6,
   "id": "bored-employer",
   "metadata": {
    "execution": {
     "iopub.execute_input": "2021-06-07T08:55:03.195011Z",
     "iopub.status.busy": "2021-06-07T08:55:03.194330Z",
     "iopub.status.idle": "2021-06-07T08:55:03.260994Z",
     "shell.execute_reply": "2021-06-07T08:55:03.260435Z",
     "shell.execute_reply.started": "2021-06-07T07:53:53.105253Z"
    },
    "papermill": {
     "duration": 0.105684,
     "end_time": "2021-06-07T08:55:03.261151",
     "exception": false,
     "start_time": "2021-06-07T08:55:03.155467",
     "status": "completed"
    },
    "tags": []
   },
   "outputs": [
    {
     "data": {
      "text/html": [
       "<div>\n",
       "<style scoped>\n",
       "    .dataframe tbody tr th:only-of-type {\n",
       "        vertical-align: middle;\n",
       "    }\n",
       "\n",
       "    .dataframe tbody tr th {\n",
       "        vertical-align: top;\n",
       "    }\n",
       "\n",
       "    .dataframe thead th {\n",
       "        text-align: right;\n",
       "    }\n",
       "</style>\n",
       "<table border=\"1\" class=\"dataframe\">\n",
       "  <thead>\n",
       "    <tr style=\"text-align: right;\">\n",
       "      <th></th>\n",
       "      <th>Age</th>\n",
       "      <th>Vintage</th>\n",
       "      <th>Avg_Account_Balance</th>\n",
       "      <th>Is_Lead</th>\n",
       "    </tr>\n",
       "  </thead>\n",
       "  <tbody>\n",
       "    <tr>\n",
       "      <th>count</th>\n",
       "      <td>245725.000000</td>\n",
       "      <td>245725.000000</td>\n",
       "      <td>2.457250e+05</td>\n",
       "      <td>245725.000000</td>\n",
       "    </tr>\n",
       "    <tr>\n",
       "      <th>mean</th>\n",
       "      <td>43.856307</td>\n",
       "      <td>46.959141</td>\n",
       "      <td>1.128403e+06</td>\n",
       "      <td>0.237208</td>\n",
       "    </tr>\n",
       "    <tr>\n",
       "      <th>std</th>\n",
       "      <td>14.828672</td>\n",
       "      <td>32.353136</td>\n",
       "      <td>8.529364e+05</td>\n",
       "      <td>0.425372</td>\n",
       "    </tr>\n",
       "    <tr>\n",
       "      <th>min</th>\n",
       "      <td>23.000000</td>\n",
       "      <td>7.000000</td>\n",
       "      <td>2.079000e+04</td>\n",
       "      <td>0.000000</td>\n",
       "    </tr>\n",
       "    <tr>\n",
       "      <th>25%</th>\n",
       "      <td>30.000000</td>\n",
       "      <td>20.000000</td>\n",
       "      <td>6.043100e+05</td>\n",
       "      <td>0.000000</td>\n",
       "    </tr>\n",
       "    <tr>\n",
       "      <th>50%</th>\n",
       "      <td>43.000000</td>\n",
       "      <td>32.000000</td>\n",
       "      <td>8.946010e+05</td>\n",
       "      <td>0.000000</td>\n",
       "    </tr>\n",
       "    <tr>\n",
       "      <th>75%</th>\n",
       "      <td>54.000000</td>\n",
       "      <td>73.000000</td>\n",
       "      <td>1.366666e+06</td>\n",
       "      <td>0.000000</td>\n",
       "    </tr>\n",
       "    <tr>\n",
       "      <th>max</th>\n",
       "      <td>85.000000</td>\n",
       "      <td>135.000000</td>\n",
       "      <td>1.035201e+07</td>\n",
       "      <td>1.000000</td>\n",
       "    </tr>\n",
       "  </tbody>\n",
       "</table>\n",
       "</div>"
      ],
      "text/plain": [
       "                 Age        Vintage  Avg_Account_Balance        Is_Lead\n",
       "count  245725.000000  245725.000000         2.457250e+05  245725.000000\n",
       "mean       43.856307      46.959141         1.128403e+06       0.237208\n",
       "std        14.828672      32.353136         8.529364e+05       0.425372\n",
       "min        23.000000       7.000000         2.079000e+04       0.000000\n",
       "25%        30.000000      20.000000         6.043100e+05       0.000000\n",
       "50%        43.000000      32.000000         8.946010e+05       0.000000\n",
       "75%        54.000000      73.000000         1.366666e+06       0.000000\n",
       "max        85.000000     135.000000         1.035201e+07       1.000000"
      ]
     },
     "execution_count": 6,
     "metadata": {},
     "output_type": "execute_result"
    }
   ],
   "source": [
    "df.describe()"
   ]
  },
  {
   "cell_type": "code",
   "execution_count": 7,
   "id": "exciting-saver",
   "metadata": {
    "execution": {
     "iopub.execute_input": "2021-06-07T08:55:03.340964Z",
     "iopub.status.busy": "2021-06-07T08:55:03.340260Z",
     "iopub.status.idle": "2021-06-07T08:55:03.566598Z",
     "shell.execute_reply": "2021-06-07T08:55:03.565930Z",
     "shell.execute_reply.started": "2021-06-07T07:53:53.165079Z"
    },
    "papermill": {
     "duration": 0.268957,
     "end_time": "2021-06-07T08:55:03.566755",
     "exception": false,
     "start_time": "2021-06-07T08:55:03.297798",
     "status": "completed"
    },
    "tags": []
   },
   "outputs": [
    {
     "name": "stdout",
     "output_type": "stream",
     "text": [
      "ID                         0\n",
      "Gender                     0\n",
      "Age                        0\n",
      "Region_Code                0\n",
      "Occupation                 0\n",
      "Channel_Code               0\n",
      "Vintage                    0\n",
      "Credit_Product         29325\n",
      "Avg_Account_Balance        0\n",
      "Is_Active                  0\n",
      "Is_Lead                    0\n",
      "dtype: int64\n",
      "#############################\n",
      "ID                         0\n",
      "Gender                     0\n",
      "Age                        0\n",
      "Region_Code                0\n",
      "Occupation                 0\n",
      "Channel_Code               0\n",
      "Vintage                    0\n",
      "Credit_Product         12522\n",
      "Avg_Account_Balance        0\n",
      "Is_Active                  0\n",
      "dtype: int64\n"
     ]
    }
   ],
   "source": [
    "print(df.isnull().sum())\n",
    "print('#############################')\n",
    "print(ts.isnull().sum())"
   ]
  },
  {
   "cell_type": "code",
   "execution_count": 8,
   "id": "dimensional-kennedy",
   "metadata": {
    "execution": {
     "iopub.execute_input": "2021-06-07T08:55:03.667647Z",
     "iopub.status.busy": "2021-06-07T08:55:03.666905Z",
     "iopub.status.idle": "2021-06-07T08:55:03.686655Z",
     "shell.execute_reply": "2021-06-07T08:55:03.686054Z",
     "shell.execute_reply.started": "2021-06-07T07:53:53.393645Z"
    },
    "papermill": {
     "duration": 0.082838,
     "end_time": "2021-06-07T08:55:03.686802",
     "exception": false,
     "start_time": "2021-06-07T08:55:03.603964",
     "status": "completed"
    },
    "tags": []
   },
   "outputs": [],
   "source": [
    "# Credit_Product: If the Customer has any active credit product (Home loan, Personal loan, Credit Card etc.)\n",
    "# Thus, We will replace null values with 'No' because if the customer has active credit product, data would have been fed.\n",
    "\n",
    "df['Credit_Product'] = df['Credit_Product'].replace(np.nan, 'No')\n",
    "ts['Credit_Product'] = ts['Credit_Product'].replace(np.nan, 'No')"
   ]
  },
  {
   "cell_type": "code",
   "execution_count": 9,
   "id": "fabulous-deployment",
   "metadata": {
    "execution": {
     "iopub.execute_input": "2021-06-07T08:55:03.771167Z",
     "iopub.status.busy": "2021-06-07T08:55:03.770223Z",
     "iopub.status.idle": "2021-06-07T08:55:03.783175Z",
     "shell.execute_reply": "2021-06-07T08:55:03.782117Z",
     "shell.execute_reply.started": "2021-06-07T07:53:53.436910Z"
    },
    "papermill": {
     "duration": 0.059541,
     "end_time": "2021-06-07T08:55:03.783334",
     "exception": false,
     "start_time": "2021-06-07T08:55:03.723793",
     "status": "completed"
    },
    "tags": []
   },
   "outputs": [
    {
     "name": "stdout",
     "output_type": "stream",
     "text": [
      "Customer is not interested: 76.28 % of the dataset\n",
      "Customer is interested: 23.72 % of the dataset\n"
     ]
    }
   ],
   "source": [
    "# The classes are heavily skewed we need to solve this issue later.\n",
    "print('Customer is not interested:', round(df['Is_Lead'].value_counts()[0]/len(df) * 100,2), '% of the dataset')\n",
    "print('Customer is interested:', round(df['Is_Lead'].value_counts()[1]/len(df) * 100,2), '% of the dataset')"
   ]
  },
  {
   "cell_type": "code",
   "execution_count": 10,
   "id": "proved-williams",
   "metadata": {
    "execution": {
     "iopub.execute_input": "2021-06-07T08:55:03.862017Z",
     "iopub.status.busy": "2021-06-07T08:55:03.861321Z",
     "iopub.status.idle": "2021-06-07T08:55:04.051324Z",
     "shell.execute_reply": "2021-06-07T08:55:04.051880Z",
     "shell.execute_reply.started": "2021-06-07T07:53:53.453551Z"
    },
    "papermill": {
     "duration": 0.231814,
     "end_time": "2021-06-07T08:55:04.052077",
     "exception": false,
     "start_time": "2021-06-07T08:55:03.820263",
     "status": "completed"
    },
    "tags": []
   },
   "outputs": [
    {
     "data": {
      "text/plain": [
       "Text(0.5, 1.0, 'Class Distributions \\n (0: Customer is not interested || 1: Customer is interested)')"
      ]
     },
     "execution_count": 10,
     "metadata": {},
     "output_type": "execute_result"
    },
    {
     "data": {
      "image/png": "[encoded data removed]",
      "text/plain": [
       "<Figure size 432x288 with 1 Axes>"
      ]
     },
     "metadata": {
      "needs_background": "light"
     },
     "output_type": "display_data"
    }
   ],
   "source": [
    "colors = [\"#0101DF\", \"#DF0101\"]\n",
    "\n",
    "sns.countplot('Is_Lead', data=df, palette=colors)\n",
    "plt.title('Class Distributions \\n (0: Customer is not interested || 1: Customer is interested)', fontsize=10)"
   ]
  },
  {
   "cell_type": "code",
   "execution_count": 11,
   "id": "lucky-lesson",
   "metadata": {
    "execution": {
     "iopub.execute_input": "2021-06-07T08:55:04.134257Z",
     "iopub.status.busy": "2021-06-07T08:55:04.133362Z",
     "iopub.status.idle": "2021-06-07T08:55:04.138141Z",
     "shell.execute_reply": "2021-06-07T08:55:04.137508Z",
     "shell.execute_reply.started": "2021-06-07T07:53:53.622131Z"
    },
    "papermill": {
     "duration": 0.047711,
     "end_time": "2021-06-07T08:55:04.138295",
     "exception": false,
     "start_time": "2021-06-07T08:55:04.090584",
     "status": "completed"
    },
    "tags": []
   },
   "outputs": [
    {
     "data": {
      "text/plain": [
       "Index(['ID', 'Gender', 'Age', 'Region_Code', 'Occupation', 'Channel_Code',\n",
       "       'Vintage', 'Credit_Product', 'Avg_Account_Balance', 'Is_Active',\n",
       "       'Is_Lead'],\n",
       "      dtype='object')"
      ]
     },
     "execution_count": 11,
     "metadata": {},
     "output_type": "execute_result"
    }
   ],
   "source": [
    "df.columns"
   ]
  },
  {
   "cell_type": "code",
   "execution_count": 12,
   "id": "scientific-iraqi",
   "metadata": {
    "execution": {
     "iopub.execute_input": "2021-06-07T08:55:04.221794Z",
     "iopub.status.busy": "2021-06-07T08:55:04.220328Z",
     "iopub.status.idle": "2021-06-07T08:55:06.311578Z",
     "shell.execute_reply": "2021-06-07T08:55:06.312109Z",
     "shell.execute_reply.started": "2021-06-07T07:53:53.629847Z"
    },
    "papermill": {
     "duration": 2.135635,
     "end_time": "2021-06-07T08:55:06.312286",
     "exception": false,
     "start_time": "2021-06-07T08:55:04.176651",
     "status": "completed"
    },
    "tags": []
   },
   "outputs": [
    {
     "data": {
      "text/plain": [
       "<AxesSubplot:xlabel='Age', ylabel='Density'>"
      ]
     },
     "execution_count": 12,
     "metadata": {},
     "output_type": "execute_result"
    },
    {
     "data": {
      "image/png": "[encoded data removed]",
      "text/plain": [
       "<Figure size 432x288 with 1 Axes>"
      ]
     },
     "metadata": {
      "needs_background": "light"
     },
     "output_type": "display_data"
    }
   ],
   "source": [
    "sns.kdeplot(data=df, x=\"Age\", hue='Occupation')"
   ]
  },
  {
   "cell_type": "code",
   "execution_count": 13,
   "id": "consecutive-emerald",
   "metadata": {
    "execution": {
     "iopub.execute_input": "2021-06-07T08:55:06.397374Z",
     "iopub.status.busy": "2021-06-07T08:55:06.396309Z",
     "iopub.status.idle": "2021-06-07T08:55:06.890055Z",
     "shell.execute_reply": "2021-06-07T08:55:06.889445Z",
     "shell.execute_reply.started": "2021-06-07T07:53:55.642809Z"
    },
    "papermill": {
     "duration": 0.53757,
     "end_time": "2021-06-07T08:55:06.890208",
     "exception": false,
     "start_time": "2021-06-07T08:55:06.352638",
     "status": "completed"
    },
    "tags": []
   },
   "outputs": [
    {
     "data": {
      "image/png": "[encoded data removed]",
      "text/plain": [
       "<Figure size 864x360 with 1 Axes>"
      ]
     },
     "metadata": {
      "needs_background": "light"
     },
     "output_type": "display_data"
    }
   ],
   "source": [
    "plt.figure(figsize=(12,5))\n",
    "sns.countplot(data=df, x= 'Occupation', hue= 'Is_Lead')\n",
    "plt.show()"
   ]
  },
  {
   "cell_type": "code",
   "execution_count": 14,
   "id": "martial-aquatic",
   "metadata": {
    "execution": {
     "iopub.execute_input": "2021-06-07T08:55:06.975506Z",
     "iopub.status.busy": "2021-06-07T08:55:06.974826Z",
     "iopub.status.idle": "2021-06-07T08:55:07.194273Z",
     "shell.execute_reply": "2021-06-07T08:55:07.193569Z",
     "shell.execute_reply.started": "2021-06-07T07:53:56.100319Z"
    },
    "papermill": {
     "duration": 0.26285,
     "end_time": "2021-06-07T08:55:07.194436",
     "exception": false,
     "start_time": "2021-06-07T08:55:06.931586",
     "status": "completed"
    },
    "tags": []
   },
   "outputs": [
    {
     "data": {
      "text/plain": [
       "Text(0.5, 0, 'Age')"
      ]
     },
     "execution_count": 14,
     "metadata": {},
     "output_type": "execute_result"
    },
    {
     "data": {
      "image/png": "[encoded data removed]",
      "text/plain": [
       "<Figure size 432x288 with 1 Axes>"
      ]
     },
     "metadata": {
      "needs_background": "light"
     },
     "output_type": "display_data"
    }
   ],
   "source": [
    "plt.hist(df.Age, density=True, bins=30)  # density=False would make counts\n",
    "plt.ylabel('Count')\n",
    "plt.xlabel('Age')"
   ]
  },
  {
   "cell_type": "code",
   "execution_count": 15,
   "id": "female-disabled",
   "metadata": {
    "execution": {
     "iopub.execute_input": "2021-06-07T08:55:07.286741Z",
     "iopub.status.busy": "2021-06-07T08:55:07.285875Z",
     "iopub.status.idle": "2021-06-07T08:55:07.308727Z",
     "shell.execute_reply": "2021-06-07T08:55:07.309234Z",
     "shell.execute_reply.started": "2021-06-07T07:53:56.295456Z"
    },
    "papermill": {
     "duration": 0.071154,
     "end_time": "2021-06-07T08:55:07.309408",
     "exception": false,
     "start_time": "2021-06-07T08:55:07.238254",
     "status": "completed"
    },
    "tags": []
   },
   "outputs": [
    {
     "data": {
      "text/html": [
       "<div>\n",
       "<style scoped>\n",
       "    .dataframe tbody tr th:only-of-type {\n",
       "        vertical-align: middle;\n",
       "    }\n",
       "\n",
       "    .dataframe tbody tr th {\n",
       "        vertical-align: top;\n",
       "    }\n",
       "\n",
       "    .dataframe thead th {\n",
       "        text-align: right;\n",
       "    }\n",
       "</style>\n",
       "<table border=\"1\" class=\"dataframe\">\n",
       "  <thead>\n",
       "    <tr style=\"text-align: right;\">\n",
       "      <th></th>\n",
       "      <th>Gender</th>\n",
       "      <th>Age</th>\n",
       "      <th>Occupation</th>\n",
       "      <th>Channel_Code</th>\n",
       "      <th>Vintage</th>\n",
       "      <th>Credit_Product</th>\n",
       "      <th>Avg_Account_Balance</th>\n",
       "      <th>Is_Active</th>\n",
       "      <th>Is_Lead</th>\n",
       "    </tr>\n",
       "  </thead>\n",
       "  <tbody>\n",
       "    <tr>\n",
       "      <th>0</th>\n",
       "      <td>Female</td>\n",
       "      <td>73</td>\n",
       "      <td>Other</td>\n",
       "      <td>X3</td>\n",
       "      <td>43</td>\n",
       "      <td>No</td>\n",
       "      <td>1045696</td>\n",
       "      <td>No</td>\n",
       "      <td>0</td>\n",
       "    </tr>\n",
       "    <tr>\n",
       "      <th>1</th>\n",
       "      <td>Female</td>\n",
       "      <td>30</td>\n",
       "      <td>Salaried</td>\n",
       "      <td>X1</td>\n",
       "      <td>32</td>\n",
       "      <td>No</td>\n",
       "      <td>581988</td>\n",
       "      <td>No</td>\n",
       "      <td>0</td>\n",
       "    </tr>\n",
       "    <tr>\n",
       "      <th>2</th>\n",
       "      <td>Female</td>\n",
       "      <td>56</td>\n",
       "      <td>Self_Employed</td>\n",
       "      <td>X3</td>\n",
       "      <td>26</td>\n",
       "      <td>No</td>\n",
       "      <td>1484315</td>\n",
       "      <td>Yes</td>\n",
       "      <td>0</td>\n",
       "    </tr>\n",
       "    <tr>\n",
       "      <th>3</th>\n",
       "      <td>Male</td>\n",
       "      <td>34</td>\n",
       "      <td>Salaried</td>\n",
       "      <td>X1</td>\n",
       "      <td>19</td>\n",
       "      <td>No</td>\n",
       "      <td>470454</td>\n",
       "      <td>No</td>\n",
       "      <td>0</td>\n",
       "    </tr>\n",
       "    <tr>\n",
       "      <th>4</th>\n",
       "      <td>Female</td>\n",
       "      <td>30</td>\n",
       "      <td>Salaried</td>\n",
       "      <td>X1</td>\n",
       "      <td>33</td>\n",
       "      <td>No</td>\n",
       "      <td>886787</td>\n",
       "      <td>No</td>\n",
       "      <td>0</td>\n",
       "    </tr>\n",
       "  </tbody>\n",
       "</table>\n",
       "</div>"
      ],
      "text/plain": [
       "   Gender  Age     Occupation Channel_Code  Vintage Credit_Product  \\\n",
       "0  Female   73          Other           X3       43             No   \n",
       "1  Female   30       Salaried           X1       32             No   \n",
       "2  Female   56  Self_Employed           X3       26             No   \n",
       "3    Male   34       Salaried           X1       19             No   \n",
       "4  Female   30       Salaried           X1       33             No   \n",
       "\n",
       "   Avg_Account_Balance Is_Active  Is_Lead  \n",
       "0              1045696        No        0  \n",
       "1               581988        No        0  \n",
       "2              1484315       Yes        0  \n",
       "3               470454        No        0  \n",
       "4               886787        No        0  "
      ]
     },
     "execution_count": 15,
     "metadata": {},
     "output_type": "execute_result"
    }
   ],
   "source": [
    "df = df.drop(['ID', 'Region_Code'], axis = 1)\n",
    "\n",
    "df.head()"
   ]
  },
  {
   "cell_type": "code",
   "execution_count": 16,
   "id": "neutral-study",
   "metadata": {
    "execution": {
     "iopub.execute_input": "2021-06-07T08:55:07.414168Z",
     "iopub.status.busy": "2021-06-07T08:55:07.398763Z",
     "iopub.status.idle": "2021-06-07T08:55:07.420473Z",
     "shell.execute_reply": "2021-06-07T08:55:07.420952Z",
     "shell.execute_reply.started": "2021-06-07T07:53:56.325446Z"
    },
    "papermill": {
     "duration": 0.069351,
     "end_time": "2021-06-07T08:55:07.421137",
     "exception": false,
     "start_time": "2021-06-07T08:55:07.351786",
     "status": "completed"
    },
    "tags": []
   },
   "outputs": [
    {
     "data": {
      "text/html": [
       "<div>\n",
       "<style scoped>\n",
       "    .dataframe tbody tr th:only-of-type {\n",
       "        vertical-align: middle;\n",
       "    }\n",
       "\n",
       "    .dataframe tbody tr th {\n",
       "        vertical-align: top;\n",
       "    }\n",
       "\n",
       "    .dataframe thead th {\n",
       "        text-align: right;\n",
       "    }\n",
       "</style>\n",
       "<table border=\"1\" class=\"dataframe\">\n",
       "  <thead>\n",
       "    <tr style=\"text-align: right;\">\n",
       "      <th></th>\n",
       "      <th>Gender</th>\n",
       "      <th>Age</th>\n",
       "      <th>Occupation</th>\n",
       "      <th>Channel_Code</th>\n",
       "      <th>Vintage</th>\n",
       "      <th>Credit_Product</th>\n",
       "      <th>Avg_Account_Balance</th>\n",
       "      <th>Is_Active</th>\n",
       "    </tr>\n",
       "  </thead>\n",
       "  <tbody>\n",
       "    <tr>\n",
       "      <th>0</th>\n",
       "      <td>Male</td>\n",
       "      <td>29</td>\n",
       "      <td>Other</td>\n",
       "      <td>X1</td>\n",
       "      <td>25</td>\n",
       "      <td>Yes</td>\n",
       "      <td>742366</td>\n",
       "      <td>No</td>\n",
       "    </tr>\n",
       "    <tr>\n",
       "      <th>1</th>\n",
       "      <td>Male</td>\n",
       "      <td>43</td>\n",
       "      <td>Other</td>\n",
       "      <td>X2</td>\n",
       "      <td>49</td>\n",
       "      <td>No</td>\n",
       "      <td>925537</td>\n",
       "      <td>No</td>\n",
       "    </tr>\n",
       "    <tr>\n",
       "      <th>2</th>\n",
       "      <td>Male</td>\n",
       "      <td>31</td>\n",
       "      <td>Salaried</td>\n",
       "      <td>X1</td>\n",
       "      <td>14</td>\n",
       "      <td>No</td>\n",
       "      <td>215949</td>\n",
       "      <td>No</td>\n",
       "    </tr>\n",
       "    <tr>\n",
       "      <th>3</th>\n",
       "      <td>Male</td>\n",
       "      <td>29</td>\n",
       "      <td>Other</td>\n",
       "      <td>X1</td>\n",
       "      <td>33</td>\n",
       "      <td>No</td>\n",
       "      <td>868070</td>\n",
       "      <td>No</td>\n",
       "    </tr>\n",
       "    <tr>\n",
       "      <th>4</th>\n",
       "      <td>Female</td>\n",
       "      <td>29</td>\n",
       "      <td>Other</td>\n",
       "      <td>X1</td>\n",
       "      <td>19</td>\n",
       "      <td>No</td>\n",
       "      <td>657087</td>\n",
       "      <td>No</td>\n",
       "    </tr>\n",
       "  </tbody>\n",
       "</table>\n",
       "</div>"
      ],
      "text/plain": [
       "   Gender  Age Occupation Channel_Code  Vintage Credit_Product  \\\n",
       "0    Male   29      Other           X1       25            Yes   \n",
       "1    Male   43      Other           X2       49             No   \n",
       "2    Male   31   Salaried           X1       14             No   \n",
       "3    Male   29      Other           X1       33             No   \n",
       "4  Female   29      Other           X1       19             No   \n",
       "\n",
       "   Avg_Account_Balance Is_Active  \n",
       "0               742366        No  \n",
       "1               925537        No  \n",
       "2               215949        No  \n",
       "3               868070        No  \n",
       "4               657087        No  "
      ]
     },
     "execution_count": 16,
     "metadata": {},
     "output_type": "execute_result"
    }
   ],
   "source": [
    "ts = ts.drop(['ID', 'Region_Code'], axis = 1)\n",
    "\n",
    "ts.head()"
   ]
  },
  {
   "cell_type": "code",
   "execution_count": 17,
   "id": "geological-kruger",
   "metadata": {
    "execution": {
     "iopub.execute_input": "2021-06-07T08:55:07.523047Z",
     "iopub.status.busy": "2021-06-07T08:55:07.515878Z",
     "iopub.status.idle": "2021-06-07T08:55:07.649839Z",
     "shell.execute_reply": "2021-06-07T08:55:07.649124Z",
     "shell.execute_reply.started": "2021-06-07T07:53:56.348240Z"
    },
    "papermill": {
     "duration": 0.182401,
     "end_time": "2021-06-07T08:55:07.650001",
     "exception": false,
     "start_time": "2021-06-07T08:55:07.467600",
     "status": "completed"
    },
    "tags": []
   },
   "outputs": [],
   "source": [
    "df = pd.get_dummies(df, columns = ['Gender', 'Occupation', 'Credit_Product', 'Channel_Code', 'Is_Active'], drop_first = True)"
   ]
  },
  {
   "cell_type": "code",
   "execution_count": 18,
   "id": "narrow-librarian",
   "metadata": {
    "execution": {
     "iopub.execute_input": "2021-06-07T08:55:07.741841Z",
     "iopub.status.busy": "2021-06-07T08:55:07.740872Z",
     "iopub.status.idle": "2021-06-07T08:55:07.798392Z",
     "shell.execute_reply": "2021-06-07T08:55:07.797764Z",
     "shell.execute_reply.started": "2021-06-07T07:53:56.482630Z"
    },
    "papermill": {
     "duration": 0.105793,
     "end_time": "2021-06-07T08:55:07.798542",
     "exception": false,
     "start_time": "2021-06-07T08:55:07.692749",
     "status": "completed"
    },
    "tags": []
   },
   "outputs": [],
   "source": [
    "ts = pd.get_dummies(ts, columns = ['Gender', 'Occupation', 'Credit_Product', 'Channel_Code', 'Is_Active'], drop_first = True)"
   ]
  },
  {
   "cell_type": "code",
   "execution_count": 19,
   "id": "referenced-wrapping",
   "metadata": {
    "execution": {
     "iopub.execute_input": "2021-06-07T08:55:07.891678Z",
     "iopub.status.busy": "2021-06-07T08:55:07.890968Z",
     "iopub.status.idle": "2021-06-07T08:55:07.895387Z",
     "shell.execute_reply": "2021-06-07T08:55:07.894765Z",
     "shell.execute_reply.started": "2021-06-07T07:53:56.543118Z"
    },
    "papermill": {
     "duration": 0.054275,
     "end_time": "2021-06-07T08:55:07.895525",
     "exception": false,
     "start_time": "2021-06-07T08:55:07.841250",
     "status": "completed"
    },
    "tags": []
   },
   "outputs": [
    {
     "data": {
      "text/plain": [
       "Index(['Age', 'Vintage', 'Avg_Account_Balance', 'Is_Lead', 'Gender_Male',\n",
       "       'Occupation_Other', 'Occupation_Salaried', 'Occupation_Self_Employed',\n",
       "       'Credit_Product_Yes', 'Channel_Code_X2', 'Channel_Code_X3',\n",
       "       'Channel_Code_X4', 'Is_Active_Yes'],\n",
       "      dtype='object')"
      ]
     },
     "execution_count": 19,
     "metadata": {},
     "output_type": "execute_result"
    }
   ],
   "source": [
    "df.columns"
   ]
  },
  {
   "cell_type": "code",
   "execution_count": 20,
   "id": "willing-public",
   "metadata": {
    "execution": {
     "iopub.execute_input": "2021-06-07T08:55:07.987086Z",
     "iopub.status.busy": "2021-06-07T08:55:07.986424Z",
     "iopub.status.idle": "2021-06-07T08:55:07.997045Z",
     "shell.execute_reply": "2021-06-07T08:55:07.996453Z",
     "shell.execute_reply.started": "2021-06-07T07:53:56.551729Z"
    },
    "papermill": {
     "duration": 0.058698,
     "end_time": "2021-06-07T08:55:07.997194",
     "exception": false,
     "start_time": "2021-06-07T08:55:07.938496",
     "status": "completed"
    },
    "tags": []
   },
   "outputs": [],
   "source": [
    "df = df[['Age', 'Vintage', 'Avg_Account_Balance', 'Gender_Male',\n",
    "       'Occupation_Other', 'Occupation_Salaried', 'Occupation_Self_Employed',\n",
    "       'Credit_Product_Yes', 'Channel_Code_X2', 'Channel_Code_X3',\n",
    "       'Channel_Code_X4', 'Is_Active_Yes', 'Is_Lead']]"
   ]
  },
  {
   "cell_type": "code",
   "execution_count": 21,
   "id": "metallic-journey",
   "metadata": {
    "execution": {
     "iopub.execute_input": "2021-06-07T08:55:08.091336Z",
     "iopub.status.busy": "2021-06-07T08:55:08.090632Z",
     "iopub.status.idle": "2021-06-07T08:55:08.095248Z",
     "shell.execute_reply": "2021-06-07T08:55:08.094682Z",
     "shell.execute_reply.started": "2021-06-07T07:53:56.573141Z"
    },
    "papermill": {
     "duration": 0.055347,
     "end_time": "2021-06-07T08:55:08.095405",
     "exception": false,
     "start_time": "2021-06-07T08:55:08.040058",
     "status": "completed"
    },
    "tags": []
   },
   "outputs": [
    {
     "data": {
      "text/plain": [
       "Index(['Age', 'Vintage', 'Avg_Account_Balance', 'Gender_Male',\n",
       "       'Occupation_Other', 'Occupation_Salaried', 'Occupation_Self_Employed',\n",
       "       'Credit_Product_Yes', 'Channel_Code_X2', 'Channel_Code_X3',\n",
       "       'Channel_Code_X4', 'Is_Active_Yes', 'Is_Lead'],\n",
       "      dtype='object')"
      ]
     },
     "execution_count": 21,
     "metadata": {},
     "output_type": "execute_result"
    }
   ],
   "source": [
    "df.columns"
   ]
  },
  {
   "cell_type": "code",
   "execution_count": 22,
   "id": "threaded-gallery",
   "metadata": {
    "execution": {
     "iopub.execute_input": "2021-06-07T08:55:08.192430Z",
     "iopub.status.busy": "2021-06-07T08:55:08.191477Z",
     "iopub.status.idle": "2021-06-07T08:55:08.196497Z",
     "shell.execute_reply": "2021-06-07T08:55:08.195894Z",
     "shell.execute_reply.started": "2021-06-07T07:53:56.582824Z"
    },
    "papermill": {
     "duration": 0.056008,
     "end_time": "2021-06-07T08:55:08.196641",
     "exception": false,
     "start_time": "2021-06-07T08:55:08.140633",
     "status": "completed"
    },
    "tags": []
   },
   "outputs": [],
   "source": [
    "X = df.drop('Is_Lead', axis=1)\n",
    "y = df['Is_Lead']"
   ]
  },
  {
   "cell_type": "code",
   "execution_count": 23,
   "id": "champion-murder",
   "metadata": {
    "execution": {
     "iopub.execute_input": "2021-06-07T08:55:08.288956Z",
     "iopub.status.busy": "2021-06-07T08:55:08.288287Z",
     "iopub.status.idle": "2021-06-07T08:55:08.291522Z",
     "shell.execute_reply": "2021-06-07T08:55:08.290891Z",
     "shell.execute_reply.started": "2021-06-07T07:53:56.597797Z"
    },
    "papermill": {
     "duration": 0.051368,
     "end_time": "2021-06-07T08:55:08.291662",
     "exception": false,
     "start_time": "2021-06-07T08:55:08.240294",
     "status": "completed"
    },
    "tags": []
   },
   "outputs": [],
   "source": [
    "from imblearn.over_sampling import RandomOverSampler\n",
    "\n",
    "os = RandomOverSampler(random_state=42)"
   ]
  },
  {
   "cell_type": "code",
   "execution_count": 24,
   "id": "fossil-evans",
   "metadata": {
    "execution": {
     "iopub.execute_input": "2021-06-07T08:55:08.384475Z",
     "iopub.status.busy": "2021-06-07T08:55:08.383775Z",
     "iopub.status.idle": "2021-06-07T08:55:08.601403Z",
     "shell.execute_reply": "2021-06-07T08:55:08.601970Z",
     "shell.execute_reply.started": "2021-06-07T07:53:56.604075Z"
    },
    "papermill": {
     "duration": 0.267088,
     "end_time": "2021-06-07T08:55:08.602165",
     "exception": false,
     "start_time": "2021-06-07T08:55:08.335077",
     "status": "completed"
    },
    "tags": []
   },
   "outputs": [],
   "source": [
    "X_res, y_res = os.fit_resample(X, y)"
   ]
  },
  {
   "cell_type": "code",
   "execution_count": 25,
   "id": "visible-closure",
   "metadata": {
    "execution": {
     "iopub.execute_input": "2021-06-07T08:55:08.698154Z",
     "iopub.status.busy": "2021-06-07T08:55:08.697314Z",
     "iopub.status.idle": "2021-06-07T08:55:08.700584Z",
     "shell.execute_reply": "2021-06-07T08:55:08.701185Z",
     "shell.execute_reply.started": "2021-06-07T07:53:56.814502Z"
    },
    "papermill": {
     "duration": 0.054439,
     "end_time": "2021-06-07T08:55:08.701370",
     "exception": false,
     "start_time": "2021-06-07T08:55:08.646931",
     "status": "completed"
    },
    "tags": []
   },
   "outputs": [
    {
     "data": {
      "text/plain": [
       "(374874, 374874)"
      ]
     },
     "execution_count": 25,
     "metadata": {},
     "output_type": "execute_result"
    }
   ],
   "source": [
    "X_res.shape[0], y_res.shape[0]"
   ]
  },
  {
   "cell_type": "code",
   "execution_count": 26,
   "id": "burning-moisture",
   "metadata": {
    "execution": {
     "iopub.execute_input": "2021-06-07T08:55:08.797990Z",
     "iopub.status.busy": "2021-06-07T08:55:08.796905Z",
     "iopub.status.idle": "2021-06-07T08:55:08.914700Z",
     "shell.execute_reply": "2021-06-07T08:55:08.913787Z",
     "shell.execute_reply.started": "2021-06-07T07:53:56.824684Z"
    },
    "papermill": {
     "duration": 0.165437,
     "end_time": "2021-06-07T08:55:08.914906",
     "exception": false,
     "start_time": "2021-06-07T08:55:08.749469",
     "status": "completed"
    },
    "tags": []
   },
   "outputs": [
    {
     "name": "stdout",
     "output_type": "stream",
     "text": [
      "Original dataset shape Counter({0: 187437, 1: 58288})\n",
      "Resampled dataset shape Counter({0: 187437, 1: 187437})\n"
     ]
    }
   ],
   "source": [
    "print('Original dataset shape {}'.format(Counter(y)))\n",
    "print('Resampled dataset shape {}'.format(Counter(y_res)))"
   ]
  },
  {
   "cell_type": "code",
   "execution_count": 27,
   "id": "qualified-mileage",
   "metadata": {
    "execution": {
     "iopub.execute_input": "2021-06-07T08:55:09.010847Z",
     "iopub.status.busy": "2021-06-07T08:55:09.009971Z",
     "iopub.status.idle": "2021-06-07T08:55:09.090646Z",
     "shell.execute_reply": "2021-06-07T08:55:09.089055Z",
     "shell.execute_reply.started": "2021-06-07T07:53:56.939855Z"
    },
    "papermill": {
     "duration": 0.130909,
     "end_time": "2021-06-07T08:55:09.090821",
     "exception": false,
     "start_time": "2021-06-07T08:55:08.959912",
     "status": "completed"
    },
    "tags": []
   },
   "outputs": [],
   "source": [
    "X_train, X_test, y_train, y_test = train_test_split(X_res, y_res, test_size=0.2, random_state=42)"
   ]
  },
  {
   "cell_type": "code",
   "execution_count": 28,
   "id": "marine-stanford",
   "metadata": {
    "execution": {
     "iopub.execute_input": "2021-06-07T08:55:09.188904Z",
     "iopub.status.busy": "2021-06-07T08:55:09.187368Z",
     "iopub.status.idle": "2021-06-07T08:55:09.264612Z",
     "shell.execute_reply": "2021-06-07T08:55:09.265108Z",
     "shell.execute_reply.started": "2021-06-07T07:53:57.018475Z"
    },
    "papermill": {
     "duration": 0.130267,
     "end_time": "2021-06-07T08:55:09.265305",
     "exception": false,
     "start_time": "2021-06-07T08:55:09.135038",
     "status": "completed"
    },
    "tags": []
   },
   "outputs": [],
   "source": [
    "from sklearn.preprocessing import MinMaxScaler\n",
    "mms = MinMaxScaler()\n",
    "\n",
    "X_train = mms.fit_transform(X_train)\n",
    "X_test = mms.transform(X_test)"
   ]
  },
  {
   "cell_type": "code",
   "execution_count": 29,
   "id": "declared-incidence",
   "metadata": {
    "execution": {
     "iopub.execute_input": "2021-06-07T08:55:09.358703Z",
     "iopub.status.busy": "2021-06-07T08:55:09.357838Z",
     "iopub.status.idle": "2021-06-07T08:55:09.723976Z",
     "shell.execute_reply": "2021-06-07T08:55:09.723207Z",
     "shell.execute_reply.started": "2021-06-07T07:53:57.092846Z"
    },
    "papermill": {
     "duration": 0.414471,
     "end_time": "2021-06-07T08:55:09.724143",
     "exception": false,
     "start_time": "2021-06-07T08:55:09.309672",
     "status": "completed"
    },
    "tags": []
   },
   "outputs": [
    {
     "ename": "NameError",
     "evalue": "name 'vsdfvsfvs' is not defined",
     "output_type": "error",
     "traceback": [
      "\u001b[0;31m---------------------------------------------------------------------------\u001b[0m",
      "\u001b[0;31mNameError\u001b[0m                                 Traceback (most recent call last)",
      "\u001b[0;32m<ipython-input-29-3f29d30c5cd3>\u001b[0m in \u001b[0;36m<module>\u001b[0;34m\u001b[0m\n\u001b[0;32m----> 1\u001b[0;31m \u001b[0mvsdfvsfvs\u001b[0m\u001b[0;34m\u001b[0m\u001b[0;34m\u001b[0m\u001b[0m\n\u001b[0m",
      "\u001b[0;31mNameError\u001b[0m: name 'vsdfvsfvs' is not defined"
     ]
    }
   ],
   "source": [
    "vsdfvsfvs"
   ]
  },
  {
   "cell_type": "code",
   "execution_count": 30,
   "id": "chinese-rover",
   "metadata": {
    "execution": {
     "iopub.execute_input": "2021-06-07T08:55:09.823031Z",
     "iopub.status.busy": "2021-06-07T08:55:09.822295Z",
     "iopub.status.idle": "2021-06-07T08:59:04.804315Z",
     "shell.execute_reply": "2021-06-07T08:59:04.804821Z",
     "shell.execute_reply.started": "2021-06-07T08:10:42.934211Z"
    },
    "papermill": {
     "duration": 235.035452,
     "end_time": "2021-06-07T08:59:04.805027",
     "exception": false,
     "start_time": "2021-06-07T08:55:09.769575",
     "status": "completed"
    },
    "tags": []
   },
   "outputs": [
    {
     "name": "stdout",
     "output_type": "stream",
     "text": [
      "Accuracy Score of Logistic Regression : 0.8806402134044682\n",
      "Confusion Matrix : \n",
      "[[30052  7507]\n",
      " [ 1442 35974]]\n",
      "Classification Report : \n",
      "              precision    recall  f1-score   support\n",
      "\n",
      "           0       0.95      0.80      0.87     37559\n",
      "           1       0.83      0.96      0.89     37416\n",
      "\n",
      "    accuracy                           0.88     74975\n",
      "   macro avg       0.89      0.88      0.88     74975\n",
      "weighted avg       0.89      0.88      0.88     74975\n",
      "\n"
     ]
    }
   ],
   "source": [
    "rf_model = RandomForestClassifier(n_estimators=500)\n",
    "rf_model.fit(X_train, y_train)\n",
    "y_pred = rf_model.predict(X_test)\n",
    "\n",
    "acc_lr = accuracy_score(y_test, y_pred)\n",
    "conf = confusion_matrix(y_test, y_pred)\n",
    "clf_report = classification_report(y_test, y_pred)\n",
    "print(f\"Accuracy Score of Logistic Regression : {acc_lr}\")\n",
    "print(f\"Confusion Matrix : \\n{conf}\")\n",
    "print(f\"Classification Report : \\n{clf_report}\")"
   ]
  },
  {
   "cell_type": "code",
   "execution_count": 31,
   "id": "experienced-trauma",
   "metadata": {
    "execution": {
     "iopub.execute_input": "2021-06-07T08:59:04.901076Z",
     "iopub.status.busy": "2021-06-07T08:59:04.899820Z",
     "iopub.status.idle": "2021-06-07T08:59:16.438898Z",
     "shell.execute_reply": "2021-06-07T08:59:16.438107Z",
     "shell.execute_reply.started": "2021-06-07T08:14:18.081526Z"
    },
    "papermill": {
     "duration": 11.589734,
     "end_time": "2021-06-07T08:59:16.439130",
     "exception": false,
     "start_time": "2021-06-07T08:59:04.849396",
     "status": "completed"
    },
    "tags": []
   },
   "outputs": [
    {
     "name": "stdout",
     "output_type": "stream",
     "text": [
      "Accuracy Score of Logistic Regression : 0.6900166722240747\n",
      "Confusion Matrix : \n",
      "[[23798 13761]\n",
      " [ 9480 27936]]\n",
      "Classification Report : \n",
      "              precision    recall  f1-score   support\n",
      "\n",
      "           0       0.72      0.63      0.67     37559\n",
      "           1       0.67      0.75      0.71     37416\n",
      "\n",
      "    accuracy                           0.69     74975\n",
      "   macro avg       0.69      0.69      0.69     74975\n",
      "weighted avg       0.69      0.69      0.69     74975\n",
      "\n"
     ]
    }
   ],
   "source": [
    "from sklearn.ensemble import AdaBoostClassifier\n",
    "ada_classifier=AdaBoostClassifier()\n",
    "ada_classifier.fit(X_train, y_train)\n",
    "y_pred = ada_classifier.predict(X_test)\n",
    "\n",
    "acc_lr = accuracy_score(y_test, y_pred)\n",
    "conf = confusion_matrix(y_test, y_pred)\n",
    "clf_report = classification_report(y_test, y_pred)\n",
    "print(f\"Accuracy Score of Logistic Regression : {acc_lr}\")\n",
    "print(f\"Confusion Matrix : \\n{conf}\")\n",
    "print(f\"Classification Report : \\n{clf_report}\")"
   ]
  },
  {
   "cell_type": "code",
   "execution_count": 32,
   "id": "biological-tribune",
   "metadata": {
    "execution": {
     "iopub.execute_input": "2021-06-07T08:59:16.536515Z",
     "iopub.status.busy": "2021-06-07T08:59:16.535256Z",
     "iopub.status.idle": "2021-06-07T09:01:02.681897Z",
     "shell.execute_reply": "2021-06-07T09:01:02.682687Z",
     "shell.execute_reply.started": "2021-06-07T08:14:28.478444Z"
    },
    "papermill": {
     "duration": 106.198426,
     "end_time": "2021-06-07T09:01:02.682929",
     "exception": false,
     "start_time": "2021-06-07T08:59:16.484503",
     "status": "completed"
    },
    "tags": []
   },
   "outputs": [
    {
     "name": "stdout",
     "output_type": "stream",
     "text": [
      "Accuracy Score of Logistic Regression : 0.7477292430810271\n",
      "Confusion Matrix : \n",
      "[[25122 12437]\n",
      " [ 6477 30939]]\n",
      "Classification Report : \n",
      "              precision    recall  f1-score   support\n",
      "\n",
      "           0       0.80      0.67      0.73     37559\n",
      "           1       0.71      0.83      0.77     37416\n",
      "\n",
      "    accuracy                           0.75     74975\n",
      "   macro avg       0.75      0.75      0.75     74975\n",
      "weighted avg       0.75      0.75      0.75     74975\n",
      "\n"
     ]
    }
   ],
   "source": [
    "from sklearn.neighbors import KNeighborsClassifier\n",
    "knn_classifier=KNeighborsClassifier()\n",
    "knn_classifier.fit(X_train, y_train)\n",
    "y_pred = knn_classifier.predict(X_test)\n",
    "\n",
    "acc_lr = accuracy_score(y_test, y_pred)\n",
    "conf = confusion_matrix(y_test, y_pred)\n",
    "clf_report = classification_report(y_test, y_pred)\n",
    "print(f\"Accuracy Score of Logistic Regression : {acc_lr}\")\n",
    "print(f\"Confusion Matrix : \\n{conf}\")\n",
    "print(f\"Classification Report : \\n{clf_report}\")"
   ]
  },
  {
   "cell_type": "code",
   "execution_count": 33,
   "id": "brutal-country",
   "metadata": {
    "execution": {
     "iopub.execute_input": "2021-06-07T09:01:02.790165Z",
     "iopub.status.busy": "2021-06-07T09:01:02.788854Z",
     "iopub.status.idle": "2021-06-07T09:01:05.322978Z",
     "shell.execute_reply": "2021-06-07T09:01:05.322274Z",
     "shell.execute_reply.started": "2021-06-07T08:16:02.160130Z"
    },
    "papermill": {
     "duration": 2.592925,
     "end_time": "2021-06-07T09:01:05.323129",
     "exception": false,
     "start_time": "2021-06-07T09:01:02.730204",
     "status": "completed"
    },
    "tags": []
   },
   "outputs": [
    {
     "name": "stdout",
     "output_type": "stream",
     "text": [
      "Accuracy Score of Logistic Regression : 0.661407135711904\n",
      "Confusion Matrix : \n",
      "[[22066 15493]\n",
      " [ 9893 27523]]\n",
      "Classification Report : \n",
      "              precision    recall  f1-score   support\n",
      "\n",
      "           0       0.69      0.59      0.63     37559\n",
      "           1       0.64      0.74      0.68     37416\n",
      "\n",
      "    accuracy                           0.66     74975\n",
      "   macro avg       0.67      0.66      0.66     74975\n",
      "weighted avg       0.67      0.66      0.66     74975\n",
      "\n"
     ]
    }
   ],
   "source": [
    "from sklearn.linear_model import LogisticRegression\n",
    "log_classifier=LogisticRegression()\n",
    "log_classifier.fit(X_train, y_train)\n",
    "y_pred = log_classifier.predict(X_test)\n",
    "\n",
    "acc_lr = accuracy_score(y_test, y_pred)\n",
    "conf = confusion_matrix(y_test, y_pred)\n",
    "clf_report = classification_report(y_test, y_pred)\n",
    "print(f\"Accuracy Score of Logistic Regression : {acc_lr}\")\n",
    "print(f\"Confusion Matrix : \\n{conf}\")\n",
    "print(f\"Classification Report : \\n{clf_report}\")"
   ]
  },
  {
   "cell_type": "markdown",
   "id": "immune-receipt",
   "metadata": {
    "papermill": {
     "duration": 0.045806,
     "end_time": "2021-06-07T09:01:05.415526",
     "exception": false,
     "start_time": "2021-06-07T09:01:05.369720",
     "status": "completed"
    },
    "tags": []
   },
   "source": [
    "#### Best threshold for maximum accuracy"
   ]
  },
  {
   "cell_type": "code",
   "execution_count": 34,
   "id": "noted-shannon",
   "metadata": {
    "execution": {
     "iopub.execute_input": "2021-06-07T09:01:05.516476Z",
     "iopub.status.busy": "2021-06-07T09:01:05.515219Z",
     "iopub.status.idle": "2021-06-07T09:01:23.575645Z",
     "shell.execute_reply": "2021-06-07T09:01:23.574979Z",
     "shell.execute_reply.started": "2021-06-07T08:19:38.036588Z"
    },
    "papermill": {
     "duration": 18.112829,
     "end_time": "2021-06-07T09:01:23.575811",
     "exception": false,
     "start_time": "2021-06-07T09:01:05.462982",
     "status": "completed"
    },
    "tags": []
   },
   "outputs": [],
   "source": [
    "final_prediction=rf_model.predict_proba(X_test)[:,1]"
   ]
  },
  {
   "cell_type": "code",
   "execution_count": 35,
   "id": "innocent-train",
   "metadata": {
    "collapsed": true,
    "execution": {
     "iopub.execute_input": "2021-06-07T09:01:23.672342Z",
     "iopub.status.busy": "2021-06-07T09:01:23.671263Z",
     "iopub.status.idle": "2021-06-07T09:01:23.694426Z",
     "shell.execute_reply": "2021-06-07T09:01:23.694963Z",
     "shell.execute_reply.started": "2021-06-07T08:19:54.166061Z"
    },
    "jupyter": {
     "outputs_hidden": true
    },
    "papermill": {
     "duration": 0.073594,
     "end_time": "2021-06-07T09:01:23.695136",
     "exception": false,
     "start_time": "2021-06-07T09:01:23.621542",
     "status": "completed"
    },
    "tags": []
   },
   "outputs": [
    {
     "data": {
      "text/plain": [
       "array([2.        , 1.        , 0.998     , 0.996     , 0.994     ,\n",
       "       0.992     , 0.99      , 0.988     , 0.986     , 0.984     ,\n",
       "       0.982     , 0.98      , 0.97980952, 0.978     , 0.976     ,\n",
       "       0.97483333, 0.974     , 0.972     , 0.97      , 0.968     ,\n",
       "       0.966     , 0.964     , 0.9625    , 0.962     , 0.96      ,\n",
       "       0.958     , 0.956     , 0.954     , 0.952     , 0.95      ,\n",
       "       0.948     , 0.94661667, 0.946     , 0.944     , 0.942     ,\n",
       "       0.94      , 0.938     , 0.936     , 0.934     , 0.932     ,\n",
       "       0.93      , 0.928     , 0.926     , 0.924     , 0.922     ,\n",
       "       0.92      , 0.918     , 0.916     , 0.914     , 0.912     ,\n",
       "       0.91      , 0.908     , 0.906     , 0.904     , 0.902     ,\n",
       "       0.9       , 0.898     , 0.896     , 0.894     , 0.892     ,\n",
       "       0.89      , 0.888     , 0.886     , 0.884     , 0.882     ,\n",
       "       0.881     , 0.88      , 0.878     , 0.876     , 0.874     ,\n",
       "       0.872     , 0.87      , 0.868     , 0.86746667, 0.866     ,\n",
       "       0.864     , 0.862     , 0.86      , 0.858     , 0.856     ,\n",
       "       0.854     , 0.852     , 0.85      , 0.848     , 0.846     ,\n",
       "       0.844     , 0.842     , 0.84      , 0.838     , 0.836     ,\n",
       "       0.834     , 0.832     , 0.83      , 0.828     , 0.826     ,\n",
       "       0.824     , 0.822     , 0.82      , 0.818     , 0.816     ,\n",
       "       0.814     , 0.812     , 0.81      , 0.808     , 0.806     ,\n",
       "       0.804     , 0.802     , 0.80101566, 0.8       , 0.798     ,\n",
       "       0.796     , 0.794     , 0.792     , 0.79168584, 0.79      ,\n",
       "       0.788     , 0.786     , 0.784     , 0.782     , 0.78      ,\n",
       "       0.77933333, 0.778     , 0.776     , 0.774     , 0.7736    ,\n",
       "       0.772     , 0.77      , 0.768     , 0.766     , 0.764     ,\n",
       "       0.762     , 0.76      , 0.758     , 0.756     , 0.754     ,\n",
       "       0.752     , 0.75      , 0.748     , 0.746     , 0.744     ,\n",
       "       0.7436    , 0.742     , 0.74      , 0.738     , 0.736     ,\n",
       "       0.734     , 0.732     , 0.73      , 0.728     , 0.726     ,\n",
       "       0.724     , 0.72249437, 0.722     , 0.72      , 0.71923333,\n",
       "       0.718     , 0.716     , 0.714     , 0.712     , 0.71      ,\n",
       "       0.708     , 0.706     , 0.7048    , 0.704     , 0.702     ,\n",
       "       0.7       , 0.698     , 0.69798167, 0.696     , 0.694     ,\n",
       "       0.692     , 0.69      , 0.6885    , 0.688     , 0.686     ,\n",
       "       0.684     , 0.682     , 0.68      , 0.678     , 0.676     ,\n",
       "       0.674     , 0.672     , 0.67      , 0.668     , 0.666     ,\n",
       "       0.664     , 0.662     , 0.66      , 0.658     , 0.656     ,\n",
       "       0.654     , 0.652     , 0.65031667, 0.65      , 0.64953175,\n",
       "       0.648     , 0.646     , 0.644     , 0.642     , 0.64      ,\n",
       "       0.638     , 0.636     , 0.634     , 0.632     , 0.63      ,\n",
       "       0.628     , 0.626     , 0.624     , 0.622     , 0.62      ,\n",
       "       0.618     , 0.616     , 0.614     , 0.612     , 0.61      ,\n",
       "       0.608     , 0.606     , 0.604     , 0.602     , 0.6       ,\n",
       "       0.598     , 0.596     , 0.594     , 0.592     , 0.59      ,\n",
       "       0.588     , 0.586     , 0.584     , 0.582     , 0.58      ,\n",
       "       0.578     , 0.576     , 0.57587446, 0.574     , 0.572     ,\n",
       "       0.57      , 0.568     , 0.566     , 0.564     , 0.562     ,\n",
       "       0.56      , 0.558     , 0.556     , 0.554     , 0.552     ,\n",
       "       0.55      , 0.548     , 0.546     , 0.544     , 0.5436    ,\n",
       "       0.542     , 0.54095159, 0.54      , 0.538     , 0.536     ,\n",
       "       0.534     , 0.532     , 0.53      , 0.528     , 0.526     ,\n",
       "       0.524     , 0.522     , 0.52      , 0.518     , 0.516     ,\n",
       "       0.514     , 0.51      , 0.508     , 0.506     , 0.504     ,\n",
       "       0.502     , 0.5       , 0.498     , 0.496     , 0.494     ,\n",
       "       0.492     , 0.49      , 0.488     , 0.486     , 0.484     ,\n",
       "       0.482     , 0.48      , 0.478     , 0.476     , 0.474     ,\n",
       "       0.472     , 0.47      , 0.468     , 0.466     , 0.464     ,\n",
       "       0.462     , 0.46      , 0.458     , 0.456     , 0.454     ,\n",
       "       0.452     , 0.45      , 0.448     , 0.446     , 0.444     ,\n",
       "       0.443     , 0.442     , 0.44      , 0.438     , 0.436     ,\n",
       "       0.434     , 0.432     , 0.43      , 0.428     , 0.426     ,\n",
       "       0.42572857, 0.424     , 0.422     , 0.42      , 0.418     ,\n",
       "       0.416     , 0.414     , 0.412     , 0.41      , 0.408     ,\n",
       "       0.406     , 0.404     , 0.402     , 0.4       , 0.398     ,\n",
       "       0.396     , 0.394     , 0.392     , 0.39      , 0.388     ,\n",
       "       0.384     , 0.382     , 0.38      , 0.378     , 0.376     ,\n",
       "       0.374     , 0.372     , 0.37      , 0.368     , 0.366     ,\n",
       "       0.364     , 0.362     , 0.36      , 0.358     , 0.356     ,\n",
       "       0.354     , 0.352     , 0.35      , 0.348     , 0.346     ,\n",
       "       0.3456    , 0.344     , 0.342     , 0.34      , 0.338     ,\n",
       "       0.336     , 0.334     , 0.332     , 0.33      , 0.328     ,\n",
       "       0.326     , 0.324     , 0.32247619, 0.322     , 0.32      ,\n",
       "       0.318     , 0.316     , 0.314     , 0.312     , 0.31      ,\n",
       "       0.30971429, 0.308     , 0.306     , 0.304     , 0.302     ,\n",
       "       0.3       , 0.298     , 0.29648413, 0.296     , 0.294     ,\n",
       "       0.292     , 0.29      , 0.288     , 0.286     , 0.284     ,\n",
       "       0.282     , 0.28      , 0.278     , 0.276     , 0.274     ,\n",
       "       0.272     , 0.27      , 0.268     , 0.266     , 0.264     ,\n",
       "       0.262     , 0.26      , 0.258     , 0.256     , 0.254     ,\n",
       "       0.252     , 0.25      , 0.248     , 0.246     , 0.244     ,\n",
       "       0.242     , 0.24      , 0.23922857, 0.238     , 0.236     ,\n",
       "       0.234     , 0.232     , 0.23      , 0.228     , 0.226     ,\n",
       "       0.22460065, 0.224     , 0.222     , 0.22      , 0.21973333,\n",
       "       0.218     , 0.216     , 0.214     , 0.212     , 0.21      ,\n",
       "       0.208     , 0.206     , 0.204     , 0.202     , 0.2       ,\n",
       "       0.198     , 0.196     , 0.194     , 0.192     , 0.19      ,\n",
       "       0.188     , 0.18733333, 0.186     , 0.184     , 0.182     ,\n",
       "       0.18      , 0.178     , 0.176     , 0.174     , 0.172     ,\n",
       "       0.17061667, 0.17      , 0.168     , 0.166     , 0.164     ,\n",
       "       0.162     , 0.16      , 0.158     , 0.156     , 0.154     ,\n",
       "       0.152     , 0.15      , 0.148     , 0.146     , 0.144     ,\n",
       "       0.14319841, 0.142     , 0.14      , 0.138     , 0.13736667,\n",
       "       0.136     , 0.134     , 0.132     , 0.13      , 0.128     ,\n",
       "       0.126     , 0.124     , 0.122     , 0.12      , 0.118     ,\n",
       "       0.116     , 0.114     , 0.112     , 0.11      , 0.108     ,\n",
       "       0.106     , 0.10403333, 0.104     , 0.1028619 , 0.102     ,\n",
       "       0.10133333, 0.1       , 0.09966667, 0.098     , 0.096     ,\n",
       "       0.094     , 0.092     , 0.09      , 0.088     , 0.0874    ,\n",
       "       0.086     , 0.084     , 0.082     , 0.08      , 0.078     ,\n",
       "       0.076     , 0.074     , 0.072     , 0.07      , 0.068     ,\n",
       "       0.066     , 0.064     , 0.062     , 0.06      , 0.058     ,\n",
       "       0.057     , 0.056     , 0.054     , 0.052     , 0.05      ,\n",
       "       0.048     , 0.046     , 0.044     , 0.042     , 0.041     ,\n",
       "       0.04      , 0.03933333, 0.038     , 0.03621111, 0.036     ,\n",
       "       0.034     , 0.032     , 0.03071111, 0.03      , 0.028     ,\n",
       "       0.026     , 0.024     , 0.022     , 0.02133333, 0.02      ,\n",
       "       0.01806667, 0.018     , 0.01633333, 0.016     , 0.01414286,\n",
       "       0.014     , 0.012     , 0.01      , 0.0084    , 0.008     ,\n",
       "       0.00616667, 0.006     , 0.0046    , 0.004     , 0.0036    ,\n",
       "       0.002     , 0.        ])"
      ]
     },
     "execution_count": 35,
     "metadata": {},
     "output_type": "execute_result"
    }
   ],
   "source": [
    "#### Calculate the ROC Curve\n",
    "\n",
    "fpr, tpr, thresholds = roc_curve(y_test, final_prediction)\n",
    "thresholds"
   ]
  },
  {
   "cell_type": "code",
   "execution_count": 36,
   "id": "answering-monroe",
   "metadata": {
    "execution": {
     "iopub.execute_input": "2021-06-07T09:01:23.792290Z",
     "iopub.status.busy": "2021-06-07T09:01:23.791623Z",
     "iopub.status.idle": "2021-06-07T09:01:23.798359Z",
     "shell.execute_reply": "2021-06-07T09:01:23.797717Z",
     "shell.execute_reply.started": "2021-06-07T08:19:54.194860Z"
    },
    "papermill": {
     "duration": 0.056908,
     "end_time": "2021-06-07T09:01:23.798517",
     "exception": false,
     "start_time": "2021-06-07T09:01:23.741609",
     "status": "completed"
    },
    "tags": []
   },
   "outputs": [],
   "source": [
    "def plot_roc_curve(fpr, tpr):\n",
    "    plt.plot(fpr, tpr, color='orange', label='ROC')\n",
    "    plt.plot([0, 1], [0, 1], color='darkblue', linestyle='--')\n",
    "    plt.xlabel('False Positive Rate')\n",
    "    plt.ylabel('True Positive Rate')\n",
    "    plt.title('Receiver Operating Characteristic (ROC) Curve')\n",
    "    plt.legend()\n",
    "    plt.show()"
   ]
  },
  {
   "cell_type": "code",
   "execution_count": 37,
   "id": "wired-stage",
   "metadata": {
    "execution": {
     "iopub.execute_input": "2021-06-07T09:01:23.925479Z",
     "iopub.status.busy": "2021-06-07T09:01:23.921198Z",
     "iopub.status.idle": "2021-06-07T09:01:24.081005Z",
     "shell.execute_reply": "2021-06-07T09:01:24.080432Z",
     "shell.execute_reply.started": "2021-06-07T08:19:54.201543Z"
    },
    "papermill": {
     "duration": 0.236383,
     "end_time": "2021-06-07T09:01:24.081145",
     "exception": false,
     "start_time": "2021-06-07T09:01:23.844762",
     "status": "completed"
    },
    "tags": []
   },
   "outputs": [
    {
     "data": {
      "image/png": "[encoded data removed]",
      "text/plain": [
       "<Figure size 432x288 with 1 Axes>"
      ]
     },
     "metadata": {
      "needs_background": "light"
     },
     "output_type": "display_data"
    }
   ],
   "source": [
    "plot_roc_curve(fpr,tpr)"
   ]
  },
  {
   "cell_type": "code",
   "execution_count": 38,
   "id": "endless-progressive",
   "metadata": {
    "execution": {
     "iopub.execute_input": "2021-06-07T09:01:24.187551Z",
     "iopub.status.busy": "2021-06-07T09:01:24.186742Z",
     "iopub.status.idle": "2021-06-07T09:01:29.581206Z",
     "shell.execute_reply": "2021-06-07T09:01:29.580488Z",
     "shell.execute_reply.started": "2021-06-07T08:25:26.486154Z"
    },
    "papermill": {
     "duration": 5.451728,
     "end_time": "2021-06-07T09:01:29.581367",
     "exception": false,
     "start_time": "2021-06-07T09:01:24.129639",
     "status": "completed"
    },
    "tags": []
   },
   "outputs": [],
   "source": [
    "ts_pred = rf_model.predict_proba(ts)"
   ]
  },
  {
   "cell_type": "code",
   "execution_count": 39,
   "id": "popular-camcorder",
   "metadata": {
    "execution": {
     "iopub.execute_input": "2021-06-07T09:01:29.684458Z",
     "iopub.status.busy": "2021-06-07T09:01:29.683380Z",
     "iopub.status.idle": "2021-06-07T09:01:29.688079Z",
     "shell.execute_reply": "2021-06-07T09:01:29.687495Z",
     "shell.execute_reply.started": "2021-06-07T08:25:33.235425Z"
    },
    "papermill": {
     "duration": 0.058007,
     "end_time": "2021-06-07T09:01:29.688229",
     "exception": false,
     "start_time": "2021-06-07T09:01:29.630222",
     "status": "completed"
    },
    "tags": []
   },
   "outputs": [
    {
     "data": {
      "text/plain": [
       "array([[0.364, 0.636],\n",
       "       [0.478, 0.522],\n",
       "       [0.076, 0.924],\n",
       "       ...,\n",
       "       [0.084, 0.916],\n",
       "       [0.814, 0.186],\n",
       "       [0.076, 0.924]])"
      ]
     },
     "execution_count": 39,
     "metadata": {},
     "output_type": "execute_result"
    }
   ],
   "source": [
    "ts_pred"
   ]
  },
  {
   "cell_type": "code",
   "execution_count": 40,
   "id": "right-bunch",
   "metadata": {
    "execution": {
     "iopub.execute_input": "2021-06-07T09:01:29.798931Z",
     "iopub.status.busy": "2021-06-07T09:01:29.797922Z",
     "iopub.status.idle": "2021-06-07T09:01:29.803408Z",
     "shell.execute_reply": "2021-06-07T09:01:29.803959Z",
     "shell.execute_reply.started": "2021-06-07T08:25:37.635424Z"
    },
    "papermill": {
     "duration": 0.065123,
     "end_time": "2021-06-07T09:01:29.804189",
     "exception": false,
     "start_time": "2021-06-07T09:01:29.739066",
     "status": "completed"
    },
    "tags": []
   },
   "outputs": [],
   "source": [
    "result = pd.DataFrame({\"ID\": ts_id, \"Is_Lead\": ts_pred[:,1]})"
   ]
  },
  {
   "cell_type": "code",
   "execution_count": 41,
   "id": "focused-philadelphia",
   "metadata": {
    "execution": {
     "iopub.execute_input": "2021-06-07T09:01:29.914695Z",
     "iopub.status.busy": "2021-06-07T09:01:29.913665Z",
     "iopub.status.idle": "2021-06-07T09:01:30.203671Z",
     "shell.execute_reply": "2021-06-07T09:01:30.204172Z",
     "shell.execute_reply.started": "2021-06-07T08:25:40.736559Z"
    },
    "papermill": {
     "duration": 0.347845,
     "end_time": "2021-06-07T09:01:30.204370",
     "exception": false,
     "start_time": "2021-06-07T09:01:29.856525",
     "status": "completed"
    },
    "tags": []
   },
   "outputs": [],
   "source": [
    "result.to_csv(\"submission_proba.csv\", index=False)"
   ]
  },
  {
   "cell_type": "code",
   "execution_count": 42,
   "id": "floating-clause",
   "metadata": {
    "execution": {
     "iopub.execute_input": "2021-06-07T09:01:30.305382Z",
     "iopub.status.busy": "2021-06-07T09:01:30.304461Z",
     "iopub.status.idle": "2021-06-07T09:01:30.308693Z",
     "shell.execute_reply": "2021-06-07T09:01:30.308194Z",
     "shell.execute_reply.started": "2021-06-07T08:26:28.366294Z"
    },
    "papermill": {
     "duration": 0.056701,
     "end_time": "2021-06-07T09:01:30.308835",
     "exception": false,
     "start_time": "2021-06-07T09:01:30.252134",
     "status": "completed"
    },
    "tags": []
   },
   "outputs": [
    {
     "data": {
      "text/html": [
       "<a href='submission_proba.csv' target='_blank'>submission_proba.csv</a><br>"
      ],
      "text/plain": [
       "/kaggle/working/submission_proba.csv"
      ]
     },
     "execution_count": 42,
     "metadata": {},
     "output_type": "execute_result"
    }
   ],
   "source": [
    "from IPython.display import FileLink\n",
    "\n",
    "FileLink('submission_proba.csv')"
   ]
  },
  {
   "cell_type": "code",
   "execution_count": null,
   "id": "aware-porcelain",
   "metadata": {
    "papermill": {
     "duration": 0.048851,
     "end_time": "2021-06-07T09:01:30.407313",
     "exception": false,
     "start_time": "2021-06-07T09:01:30.358462",
     "status": "completed"
    },
    "tags": []
   },
   "outputs": [],
   "source": []
  }
 ],
 "metadata": {
  "kernelspec": {
   "display_name": "Python 3",
   "language": "python",
   "name": "python3"
  },
  "language_info": {
   "codemirror_mode": {
    "name": "ipython",
    "version": 3
   },
   "file_extension": ".py",
   "mimetype": "text/x-python",
   "name": "python",
   "nbconvert_exporter": "python",
   "pygments_lexer": "ipython3",
   "version": "3.7.10"
  },
  "papermill": {
   "default_parameters": {},
   "duration": 407.075103,
   "end_time": "2021-06-07T09:01:32.387871",
   "environment_variables": {},
   "exception": null,
   "input_path": "__notebook__.ipynb",
   "output_path": "__notebook__.ipynb",
   "parameters": {},
   "start_time": "2021-06-07T08:54:45.312768",
   "version": "2.3.3"
  }
 },
 "nbformat": 4,
 "nbformat_minor": 5
}
